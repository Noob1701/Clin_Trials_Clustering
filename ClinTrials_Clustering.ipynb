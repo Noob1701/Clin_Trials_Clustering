{
 "cells": [
  {
   "cell_type": "code",
   "execution_count": 1,
   "id": "df85a3cf",
   "metadata": {
    "execution": {
     "iopub.execute_input": "2024-06-11T03:05:23.932685Z",
     "iopub.status.busy": "2024-06-11T03:05:23.932260Z",
     "iopub.status.idle": "2024-06-11T03:05:27.862597Z",
     "shell.execute_reply": "2024-06-11T03:05:27.861270Z"
    },
    "id": "Ic44mOZfK_bh",
    "outputId": "2a56ce7c-1c72-4d83-ed0d-c2748ac5f402",
    "papermill": {
     "duration": 3.957909,
     "end_time": "2024-06-11T03:05:27.865843",
     "exception": false,
     "start_time": "2024-06-11T03:05:23.907934",
     "status": "completed"
    },
    "tags": []
   },
   "outputs": [],
   "source": [
    "import warnings\n",
    "from sklearn.metrics.pairwise import cosine_distances\n",
    "from sklearn.manifold import TSNE\n",
    "from sklearn.cluster import KMeans\n",
    "import matplotlib.pyplot as plt\n",
    "import plotly.express as px\n",
    "import plotly.graph_objects as go\n",
    "import gc\n",
    "from datetime import datetime\n",
    "from sklearn.preprocessing import MaxAbsScaler, StandardScaler, OneHotEncoder\n",
    "from sklearn.metrics import accuracy_score\n",
    "import numpy as np\n",
    "import pandas as pd\n",
    "import nltk\n",
    "from nltk.corpus import stopwords\n",
    "from nltk.tokenize import word_tokenize\n",
    "from nltk.stem import WordNetLemmatizer\n",
    "import os\n",
    "import string\n",
    "from sklearn.feature_extraction.text import TfidfVectorizer\n",
    "from sklearn.decomposition import TruncatedSVD\n",
    "\n",
    "\n",
    "\n",
    "\n",
    "warnings.filterwarnings('ignore')"
   ]
  },
  {
   "cell_type": "markdown",
   "id": "037c9f53",
   "metadata": {
    "papermill": {
     "duration": 0.020673,
     "end_time": "2024-06-11T03:05:27.907964",
     "exception": false,
     "start_time": "2024-06-11T03:05:27.887291",
     "status": "completed"
    },
    "tags": []
   },
   "source": [
    "# Import the Data\n",
    "##### I know this dataset is in Kaggle, but I was responsible for the initial dataset collection as well. See https://github.com/Noob1701/Clin_Trials_Clustering for data collection notebook"
   ]
  },
  {
   "cell_type": "code",
   "execution_count": 2,
   "id": "0e1b9f5e",
   "metadata": {
    "execution": {
     "iopub.execute_input": "2024-06-11T03:05:27.951627Z",
     "iopub.status.busy": "2024-06-11T03:05:27.950996Z",
     "iopub.status.idle": "2024-06-11T03:05:29.310639Z",
     "shell.execute_reply": "2024-06-11T03:05:29.308806Z"
    },
    "papermill": {
     "duration": 1.385326,
     "end_time": "2024-06-11T03:05:29.314256",
     "exception": false,
     "start_time": "2024-06-11T03:05:27.928930",
     "status": "completed"
    },
    "tags": []
   },
   "outputs": [
    {
     "name": "stdout",
     "output_type": "stream",
     "text": [
      "[nltk_data] Downloading package wordnet to /kaggle/working/...\n",
      "Archive:  /kaggle/working/corpora/wordnet.zip\n",
      "   creating: /kaggle/working/corpora/wordnet/\n",
      "  inflating: /kaggle/working/corpora/wordnet/lexnames  \n",
      "  inflating: /kaggle/working/corpora/wordnet/data.verb  \n",
      "  inflating: /kaggle/working/corpora/wordnet/index.adv  \n",
      "  inflating: /kaggle/working/corpora/wordnet/adv.exc  \n",
      "  inflating: /kaggle/working/corpora/wordnet/index.verb  \n",
      "  inflating: /kaggle/working/corpora/wordnet/cntlist.rev  \n",
      "  inflating: /kaggle/working/corpora/wordnet/data.adj  \n",
      "  inflating: /kaggle/working/corpora/wordnet/index.adj  \n",
      "  inflating: /kaggle/working/corpora/wordnet/LICENSE  \n",
      "  inflating: /kaggle/working/corpora/wordnet/citation.bib  \n",
      "  inflating: /kaggle/working/corpora/wordnet/noun.exc  \n",
      "  inflating: /kaggle/working/corpora/wordnet/verb.exc  \n",
      "  inflating: /kaggle/working/corpora/wordnet/README  \n",
      "  inflating: /kaggle/working/corpora/wordnet/index.sense  \n",
      "  inflating: /kaggle/working/corpora/wordnet/data.noun  \n",
      "  inflating: /kaggle/working/corpora/wordnet/data.adv  \n",
      "  inflating: /kaggle/working/corpora/wordnet/index.noun  \n",
      "  inflating: /kaggle/working/corpora/wordnet/adj.exc  \n"
     ]
    }
   ],
   "source": [
    "import nltk\n",
    "import subprocess\n",
    "\n",
    "# Download and unzip wordnet\n",
    "try:\n",
    "    nltk.data.find('wordnet.zip')\n",
    "except:\n",
    "    nltk.download('wordnet', download_dir='/kaggle/working/')\n",
    "    command = \"unzip /kaggle/working/corpora/wordnet.zip -d /kaggle/working/corpora\"\n",
    "    subprocess.run(command.split())\n",
    "    nltk.data.path.append('/kaggle/working/')\n",
    "\n",
    "from nltk.corpus import wordnet"
   ]
  },
  {
   "cell_type": "code",
   "execution_count": 3,
   "id": "01040b2e",
   "metadata": {
    "execution": {
     "iopub.execute_input": "2024-06-11T03:05:29.362037Z",
     "iopub.status.busy": "2024-06-11T03:05:29.361095Z",
     "iopub.status.idle": "2024-06-11T03:05:29.374694Z",
     "shell.execute_reply": "2024-06-11T03:05:29.373030Z"
    },
    "papermill": {
     "duration": 0.039982,
     "end_time": "2024-06-11T03:05:29.377855",
     "exception": false,
     "start_time": "2024-06-11T03:05:29.337873",
     "status": "completed"
    },
    "tags": []
   },
   "outputs": [
    {
     "name": "stdout",
     "output_type": "stream",
     "text": [
      "/kaggle/input/clinicaltrials-gov-clinical-trials-dataset/clin_trials.csv\n"
     ]
    }
   ],
   "source": [
    "\n",
    "for dirname, _, filenames in os.walk('/kaggle/input'):\n",
    "    for filename in filenames:\n",
    "        print(os.path.join(dirname, filename))"
   ]
  },
  {
   "cell_type": "code",
   "execution_count": 4,
   "id": "7c55b3e4",
   "metadata": {
    "execution": {
     "iopub.execute_input": "2024-06-11T03:05:29.438003Z",
     "iopub.status.busy": "2024-06-11T03:05:29.437444Z",
     "iopub.status.idle": "2024-06-11T03:05:42.038875Z",
     "shell.execute_reply": "2024-06-11T03:05:42.037472Z"
    },
    "id": "SUaTovbuFXFR",
    "papermill": {
     "duration": 12.632817,
     "end_time": "2024-06-11T03:05:42.041343",
     "exception": false,
     "start_time": "2024-06-11T03:05:29.408526",
     "status": "completed"
    },
    "tags": []
   },
   "outputs": [
    {
     "data": {
      "text/html": [
       "<div>\n",
       "<style scoped>\n",
       "    .dataframe tbody tr th:only-of-type {\n",
       "        vertical-align: middle;\n",
       "    }\n",
       "\n",
       "    .dataframe tbody tr th {\n",
       "        vertical-align: top;\n",
       "    }\n",
       "\n",
       "    .dataframe thead th {\n",
       "        text-align: right;\n",
       "    }\n",
       "</style>\n",
       "<table border=\"1\" class=\"dataframe\">\n",
       "  <thead>\n",
       "    <tr style=\"text-align: right;\">\n",
       "      <th></th>\n",
       "      <th>Organization Full Name</th>\n",
       "      <th>Organization Class</th>\n",
       "      <th>Responsible Party</th>\n",
       "      <th>Brief Title</th>\n",
       "      <th>Full Title</th>\n",
       "      <th>Overall Status</th>\n",
       "      <th>Start Date</th>\n",
       "      <th>Standard Age</th>\n",
       "      <th>Conditions</th>\n",
       "      <th>Primary Purpose</th>\n",
       "      <th>Interventions</th>\n",
       "      <th>Intervention Description</th>\n",
       "      <th>Study Type</th>\n",
       "      <th>Phases</th>\n",
       "      <th>Outcome Measure</th>\n",
       "      <th>Medical Subject Headings</th>\n",
       "    </tr>\n",
       "  </thead>\n",
       "  <tbody>\n",
       "    <tr>\n",
       "      <th>0</th>\n",
       "      <td>Montefiore Medical Center</td>\n",
       "      <td>OTHER</td>\n",
       "      <td>SPONSOR</td>\n",
       "      <td>Kinesiotape for Edema After Bilateral Total Kn...</td>\n",
       "      <td>Effect of Kinesiotaping on Edema Management, P...</td>\n",
       "      <td>COMPLETED</td>\n",
       "      <td>2021-10-18</td>\n",
       "      <td>ADULT OLDER_ADULT</td>\n",
       "      <td>Arthroplasty Complications, Arthroplasty, Repl...</td>\n",
       "      <td>TREATMENT</td>\n",
       "      <td>Kinesio(R)Tape for edema control</td>\n",
       "      <td>Kinesio(R)Tape is an elastic, cotton tape with...</td>\n",
       "      <td>INTERVENTIONAL</td>\n",
       "      <td>NaN</td>\n",
       "      <td>Change from baseline and during 1-2-day time i...</td>\n",
       "      <td>Edema</td>\n",
       "    </tr>\n",
       "  </tbody>\n",
       "</table>\n",
       "</div>"
      ],
      "text/plain": [
       "      Organization Full Name Organization Class Responsible Party  \\\n",
       "0  Montefiore Medical Center              OTHER           SPONSOR   \n",
       "\n",
       "                                         Brief Title  \\\n",
       "0  Kinesiotape for Edema After Bilateral Total Kn...   \n",
       "\n",
       "                                          Full Title Overall Status  \\\n",
       "0  Effect of Kinesiotaping on Edema Management, P...      COMPLETED   \n",
       "\n",
       "   Start Date       Standard Age  \\\n",
       "0  2021-10-18  ADULT OLDER_ADULT   \n",
       "\n",
       "                                          Conditions Primary Purpose  \\\n",
       "0  Arthroplasty Complications, Arthroplasty, Repl...       TREATMENT   \n",
       "\n",
       "                      Interventions  \\\n",
       "0  Kinesio(R)Tape for edema control   \n",
       "\n",
       "                            Intervention Description      Study Type Phases  \\\n",
       "0  Kinesio(R)Tape is an elastic, cotton tape with...  INTERVENTIONAL    NaN   \n",
       "\n",
       "                                     Outcome Measure Medical Subject Headings  \n",
       "0  Change from baseline and during 1-2-day time i...                    Edema  "
      ]
     },
     "execution_count": 4,
     "metadata": {},
     "output_type": "execute_result"
    }
   ],
   "source": [
    "'''n = 496615 #number of records in file\n",
    "s = 100000 #desired sample size\n",
    "\n",
    "n = sum(1 for line in open('/kaggle/input/clinicaltrials-gov-clinical-trials-dataset/clin_trials.csv')) - 1 #number of records in file (excludes header)\n",
    "s = 10000 #desired sample size\n",
    "skip = sorted(random.sample(range(1,n+1),n-s)) #the 0-indexed header will not be included in the skip list'''\n",
    "clin_trials = pd.read_csv('/kaggle/input/clinicaltrials-gov-clinical-trials-dataset/clin_trials.csv')\n",
    "clin_trials = clin_trials.drop('Unnamed: 0', axis = 1)\n",
    "clin_trials_ro = clin_trials\n",
    "clin_trials.head(1)"
   ]
  },
  {
   "cell_type": "markdown",
   "id": "312d7a64",
   "metadata": {
    "papermill": {
     "duration": 0.022258,
     "end_time": "2024-06-11T03:05:42.086028",
     "exception": false,
     "start_time": "2024-06-11T03:05:42.063770",
     "status": "completed"
    },
    "tags": []
   },
   "source": [
    "# Limiting Data to Sponsor and Industry"
   ]
  },
  {
   "cell_type": "code",
   "execution_count": 5,
   "id": "d2e6ccd5",
   "metadata": {
    "execution": {
     "iopub.execute_input": "2024-06-11T03:05:42.131751Z",
     "iopub.status.busy": "2024-06-11T03:05:42.131330Z",
     "iopub.status.idle": "2024-06-11T03:05:42.481274Z",
     "shell.execute_reply": "2024-06-11T03:05:42.480145Z"
    },
    "id": "iN8Xq9VFLVNo",
    "outputId": "77407cdb-fa31-4c35-bbfd-b490a1688973",
    "papermill": {
     "duration": 0.376141,
     "end_time": "2024-06-11T03:05:42.484042",
     "exception": false,
     "start_time": "2024-06-11T03:05:42.107901",
     "status": "completed"
    },
    "tags": []
   },
   "outputs": [
    {
     "name": "stdout",
     "output_type": "stream",
     "text": [
      "496615\n",
      "100864\n"
     ]
    },
    {
     "data": {
      "text/plain": [
       "Index(['Organization Full Name', 'Organization Class', 'Responsible Party',\n",
       "       'Brief Title', 'Full Title', 'Overall Status', 'Start Date',\n",
       "       'Standard Age', 'Conditions', 'Primary Purpose', 'Interventions',\n",
       "       'Intervention Description', 'Study Type', 'Phases', 'Outcome Measure',\n",
       "       'Medical Subject Headings'],\n",
       "      dtype='object')"
      ]
     },
     "execution_count": 5,
     "metadata": {},
     "output_type": "execute_result"
    }
   ],
   "source": [
    "pd.set_option('display.max_columns', None)\n",
    "print(len(clin_trials))\n",
    "clin_trials = clin_trials[clin_trials['Responsible Party'] == 'SPONSOR']\n",
    "clin_trials = clin_trials[clin_trials['Organization Class'] == 'INDUSTRY']\n",
    "clin_trials = clin_trials.reset_index(drop = True)\n",
    "print(len(clin_trials))\n",
    "clin_trials.columns"
   ]
  },
  {
   "cell_type": "markdown",
   "id": "9b96df29",
   "metadata": {
    "papermill": {
     "duration": 0.02188,
     "end_time": "2024-06-11T03:05:42.528452",
     "exception": false,
     "start_time": "2024-06-11T03:05:42.506572",
     "status": "completed"
    },
    "tags": []
   },
   "source": [
    "# Data Preprocessing"
   ]
  },
  {
   "cell_type": "code",
   "execution_count": 6,
   "id": "a474e30c",
   "metadata": {
    "execution": {
     "iopub.execute_input": "2024-06-11T03:05:42.574348Z",
     "iopub.status.busy": "2024-06-11T03:05:42.573633Z",
     "iopub.status.idle": "2024-06-11T03:05:42.579315Z",
     "shell.execute_reply": "2024-06-11T03:05:42.578175Z"
    },
    "papermill": {
     "duration": 0.031458,
     "end_time": "2024-06-11T03:05:42.581813",
     "exception": false,
     "start_time": "2024-06-11T03:05:42.550355",
     "status": "completed"
    },
    "tags": []
   },
   "outputs": [],
   "source": [
    "formats = [\n",
    "    \"%Y-%m-%d\",             # 2023-06-01\n",
    "    \"%d/%m/%Y %H:%M:%S\",    # 01/06/2023 14:45:00\n",
    "    \"%B %d, %Y\",            # June 1, 2023\n",
    "    \"%Y.%m.%d AD at %H:%M:%S\", # 2023.06.01 AD at 14:45:00\n",
    "    \"%d-%b-%Y\",             # 01-Jun-2023\n",
    "    \"%Y/%m/%d %H:%M\",       # 2023/06/01 14:45\n",
    "    \"%d/%m/%Y\"              # 15/08/2023\n",
    "]"
   ]
  },
  {
   "cell_type": "code",
   "execution_count": 7,
   "id": "67269d40",
   "metadata": {
    "execution": {
     "iopub.execute_input": "2024-06-11T03:05:42.627318Z",
     "iopub.status.busy": "2024-06-11T03:05:42.626932Z",
     "iopub.status.idle": "2024-06-11T03:05:42.632949Z",
     "shell.execute_reply": "2024-06-11T03:05:42.631742Z"
    },
    "papermill": {
     "duration": 0.031361,
     "end_time": "2024-06-11T03:05:42.635262",
     "exception": false,
     "start_time": "2024-06-11T03:05:42.603901",
     "status": "completed"
    },
    "tags": []
   },
   "outputs": [],
   "source": [
    "def parse_mixed_date(date_str):\n",
    "    for fmt in formats:\n",
    "        try:\n",
    "            return datetime.strptime(date_str, fmt)\n",
    "        except ValueError:\n",
    "            continue\n",
    "    return pd.NaT"
   ]
  },
  {
   "cell_type": "code",
   "execution_count": 8,
   "id": "a27ccbb8",
   "metadata": {
    "execution": {
     "iopub.execute_input": "2024-06-11T03:05:42.680669Z",
     "iopub.status.busy": "2024-06-11T03:05:42.680250Z",
     "iopub.status.idle": "2024-06-11T03:05:43.754218Z",
     "shell.execute_reply": "2024-06-11T03:05:43.752697Z"
    },
    "papermill": {
     "duration": 1.099883,
     "end_time": "2024-06-11T03:05:43.756907",
     "exception": false,
     "start_time": "2024-06-11T03:05:42.657024",
     "status": "completed"
    },
    "tags": []
   },
   "outputs": [
    {
     "data": {
      "text/html": [
       "<div>\n",
       "<style scoped>\n",
       "    .dataframe tbody tr th:only-of-type {\n",
       "        vertical-align: middle;\n",
       "    }\n",
       "\n",
       "    .dataframe tbody tr th {\n",
       "        vertical-align: top;\n",
       "    }\n",
       "\n",
       "    .dataframe thead th {\n",
       "        text-align: right;\n",
       "    }\n",
       "</style>\n",
       "<table border=\"1\" class=\"dataframe\">\n",
       "  <thead>\n",
       "    <tr style=\"text-align: right;\">\n",
       "      <th></th>\n",
       "      <th>Organization Full Name</th>\n",
       "      <th>Organization Class</th>\n",
       "      <th>Responsible Party</th>\n",
       "      <th>Brief Title</th>\n",
       "      <th>Full Title</th>\n",
       "      <th>Overall Status</th>\n",
       "      <th>Start Date</th>\n",
       "      <th>Standard Age</th>\n",
       "      <th>Conditions</th>\n",
       "      <th>Primary Purpose</th>\n",
       "      <th>Interventions</th>\n",
       "      <th>Intervention Description</th>\n",
       "      <th>Study Type</th>\n",
       "      <th>Phases</th>\n",
       "      <th>Outcome Measure</th>\n",
       "      <th>Medical Subject Headings</th>\n",
       "    </tr>\n",
       "  </thead>\n",
       "  <tbody>\n",
       "    <tr>\n",
       "      <th>count</th>\n",
       "      <td>100864</td>\n",
       "      <td>100864</td>\n",
       "      <td>100864</td>\n",
       "      <td>100864</td>\n",
       "      <td>100864</td>\n",
       "      <td>100864</td>\n",
       "      <td>100864</td>\n",
       "      <td>100864</td>\n",
       "      <td>100864</td>\n",
       "      <td>100864</td>\n",
       "      <td>100864</td>\n",
       "      <td>100864</td>\n",
       "      <td>100864</td>\n",
       "      <td>84897</td>\n",
       "      <td>100864</td>\n",
       "      <td>100864</td>\n",
       "    </tr>\n",
       "    <tr>\n",
       "      <th>unique</th>\n",
       "      <td>11732</td>\n",
       "      <td>1</td>\n",
       "      <td>1</td>\n",
       "      <td>100346</td>\n",
       "      <td>98334</td>\n",
       "      <td>13</td>\n",
       "      <td>6635</td>\n",
       "      <td>6</td>\n",
       "      <td>32146</td>\n",
       "      <td>10</td>\n",
       "      <td>78488</td>\n",
       "      <td>79843</td>\n",
       "      <td>3</td>\n",
       "      <td>8</td>\n",
       "      <td>87496</td>\n",
       "      <td>12406</td>\n",
       "    </tr>\n",
       "    <tr>\n",
       "      <th>top</th>\n",
       "      <td>GlaxoSmithKline</td>\n",
       "      <td>INDUSTRY</td>\n",
       "      <td>SPONSOR</td>\n",
       "      <td>Sun Protection Factor Assay</td>\n",
       "      <td>Unknown</td>\n",
       "      <td>COMPLETED</td>\n",
       "      <td>Unknown</td>\n",
       "      <td>ADULT OLDER_ADULT</td>\n",
       "      <td>Healthy</td>\n",
       "      <td>TREATMENT</td>\n",
       "      <td>Unknown</td>\n",
       "      <td>Unknown</td>\n",
       "      <td>INTERVENTIONAL</td>\n",
       "      <td>PHASE1</td>\n",
       "      <td>Unknown</td>\n",
       "      <td>Unknown</td>\n",
       "    </tr>\n",
       "    <tr>\n",
       "      <th>freq</th>\n",
       "      <td>3374</td>\n",
       "      <td>100864</td>\n",
       "      <td>100864</td>\n",
       "      <td>14</td>\n",
       "      <td>1548</td>\n",
       "      <td>65002</td>\n",
       "      <td>809</td>\n",
       "      <td>70110</td>\n",
       "      <td>4052</td>\n",
       "      <td>66338</td>\n",
       "      <td>4828</td>\n",
       "      <td>9029</td>\n",
       "      <td>85847</td>\n",
       "      <td>22969</td>\n",
       "      <td>1176</td>\n",
       "      <td>17831</td>\n",
       "    </tr>\n",
       "  </tbody>\n",
       "</table>\n",
       "</div>"
      ],
      "text/plain": [
       "       Organization Full Name Organization Class Responsible Party  \\\n",
       "count                  100864             100864            100864   \n",
       "unique                  11732                  1                 1   \n",
       "top           GlaxoSmithKline           INDUSTRY           SPONSOR   \n",
       "freq                     3374             100864            100864   \n",
       "\n",
       "                        Brief Title Full Title Overall Status Start Date  \\\n",
       "count                        100864     100864         100864     100864   \n",
       "unique                       100346      98334             13       6635   \n",
       "top     Sun Protection Factor Assay    Unknown      COMPLETED    Unknown   \n",
       "freq                             14       1548          65002        809   \n",
       "\n",
       "             Standard Age Conditions Primary Purpose Interventions  \\\n",
       "count              100864     100864          100864        100864   \n",
       "unique                  6      32146              10         78488   \n",
       "top     ADULT OLDER_ADULT    Healthy       TREATMENT       Unknown   \n",
       "freq                70110       4052           66338          4828   \n",
       "\n",
       "       Intervention Description      Study Type  Phases Outcome Measure  \\\n",
       "count                    100864          100864   84897          100864   \n",
       "unique                    79843               3       8           87496   \n",
       "top                     Unknown  INTERVENTIONAL  PHASE1         Unknown   \n",
       "freq                       9029           85847   22969            1176   \n",
       "\n",
       "       Medical Subject Headings  \n",
       "count                    100864  \n",
       "unique                    12406  \n",
       "top                     Unknown  \n",
       "freq                      17831  "
      ]
     },
     "execution_count": 8,
     "metadata": {},
     "output_type": "execute_result"
    }
   ],
   "source": [
    "clin_trials.describe()"
   ]
  },
  {
   "cell_type": "code",
   "execution_count": 9,
   "id": "68a7e940",
   "metadata": {
    "execution": {
     "iopub.execute_input": "2024-06-11T03:05:43.804100Z",
     "iopub.status.busy": "2024-06-11T03:05:43.803689Z",
     "iopub.status.idle": "2024-06-11T03:05:43.842624Z",
     "shell.execute_reply": "2024-06-11T03:05:43.841501Z"
    },
    "papermill": {
     "duration": 0.06553,
     "end_time": "2024-06-11T03:05:43.845268",
     "exception": false,
     "start_time": "2024-06-11T03:05:43.779738",
     "status": "completed"
    },
    "tags": []
   },
   "outputs": [
    {
     "data": {
      "text/plain": [
       "Medical Subject Headings\n",
       "Unknown                                                                                                                                                                                                  17831\n",
       "Neoplasms                                                                                                                                                                                                 2197\n",
       "Diabetes Mellitus Diabetes Mellitus, Type 2                                                                                                                                                               1886\n",
       "Breast Neoplasms                                                                                                                                                                                          1322\n",
       "Arthritis Arthritis, Rheumatoid                                                                                                                                                                           1071\n",
       "                                                                                                                                                                                                         ...  \n",
       "Substance-Related Disorders Alcoholism Alcohol Drinking                                                                                                                                                      1\n",
       "Heart Diseases Arrhythmias, Cardiac                                                                                                                                                                          1\n",
       "Rectal Neoplasms Cancer Pain                                                                                                                                                                                 1\n",
       "Lymphoma Leukemia Precursor Cell Lymphoblastic Leukemia-Lymphoma Leukemia, Lymphoid Lymphoma, Large B-Cell, Diffuse Leukemia, Lymphocytic, Chronic, B-Cell Lymphoma, Follicular Lymphoma, Mantle-Cell        1\n",
       "Dermatitis, Atopic Dermatitis Eczema Skin Diseases Immune System Diseases                                                                                                                                    1\n",
       "Name: count, Length: 12406, dtype: int64"
      ]
     },
     "execution_count": 9,
     "metadata": {},
     "output_type": "execute_result"
    }
   ],
   "source": [
    "clin_trials['Medical Subject Headings'].value_counts()"
   ]
  },
  {
   "cell_type": "code",
   "execution_count": 10,
   "id": "2ecb1df4",
   "metadata": {
    "execution": {
     "iopub.execute_input": "2024-06-11T03:05:43.893150Z",
     "iopub.status.busy": "2024-06-11T03:05:43.892723Z",
     "iopub.status.idle": "2024-06-11T03:05:52.566650Z",
     "shell.execute_reply": "2024-06-11T03:05:52.565252Z"
    },
    "papermill": {
     "duration": 8.701403,
     "end_time": "2024-06-11T03:05:52.569594",
     "exception": false,
     "start_time": "2024-06-11T03:05:43.868191",
     "status": "completed"
    },
    "tags": []
   },
   "outputs": [],
   "source": [
    "clin_trials['Start Date'] = clin_trials['Start Date'].apply(parse_mixed_date)\n",
    "clin_trials['Year'] = clin_trials['Start Date'].dt.year\n"
   ]
  },
  {
   "cell_type": "code",
   "execution_count": 11,
   "id": "9a2e4e06",
   "metadata": {
    "execution": {
     "iopub.execute_input": "2024-06-11T03:05:52.617290Z",
     "iopub.status.busy": "2024-06-11T03:05:52.616853Z",
     "iopub.status.idle": "2024-06-11T03:05:52.622596Z",
     "shell.execute_reply": "2024-06-11T03:05:52.621403Z"
    },
    "papermill": {
     "duration": 0.032602,
     "end_time": "2024-06-11T03:05:52.625109",
     "exception": false,
     "start_time": "2024-06-11T03:05:52.592507",
     "status": "completed"
    },
    "tags": []
   },
   "outputs": [],
   "source": [
    "categorical_cols = ['Overall Status', 'Primary Purpose', 'Study Type', 'Standard Age', 'Phases', 'Year']"
   ]
  },
  {
   "cell_type": "code",
   "execution_count": 12,
   "id": "f1ca002a",
   "metadata": {
    "execution": {
     "iopub.execute_input": "2024-06-11T03:05:52.671963Z",
     "iopub.status.busy": "2024-06-11T03:05:52.671545Z",
     "iopub.status.idle": "2024-06-11T03:05:52.679210Z",
     "shell.execute_reply": "2024-06-11T03:05:52.677742Z"
    },
    "papermill": {
     "duration": 0.033876,
     "end_time": "2024-06-11T03:05:52.681630",
     "exception": false,
     "start_time": "2024-06-11T03:05:52.647754",
     "status": "completed"
    },
    "tags": []
   },
   "outputs": [
    {
     "data": {
      "text/plain": [
       "['Overall Status',\n",
       " 'Primary Purpose',\n",
       " 'Study Type',\n",
       " 'Standard Age',\n",
       " 'Phases',\n",
       " 'Year']"
      ]
     },
     "execution_count": 12,
     "metadata": {},
     "output_type": "execute_result"
    }
   ],
   "source": [
    "categorical_cols"
   ]
  },
  {
   "cell_type": "code",
   "execution_count": 13,
   "id": "04d66ac9",
   "metadata": {
    "execution": {
     "iopub.execute_input": "2024-06-11T03:05:52.728796Z",
     "iopub.status.busy": "2024-06-11T03:05:52.728323Z",
     "iopub.status.idle": "2024-06-11T03:05:52.775776Z",
     "shell.execute_reply": "2024-06-11T03:05:52.774696Z"
    },
    "papermill": {
     "duration": 0.073788,
     "end_time": "2024-06-11T03:05:52.778239",
     "exception": false,
     "start_time": "2024-06-11T03:05:52.704451",
     "status": "completed"
    },
    "tags": []
   },
   "outputs": [
    {
     "data": {
      "text/plain": [
       "Index(['Organization Full Name', 'Brief Title', 'Full Title', 'Overall Status',\n",
       "       'Standard Age', 'Conditions', 'Primary Purpose', 'Interventions',\n",
       "       'Intervention Description', 'Study Type', 'Phases', 'Outcome Measure',\n",
       "       'Year'],\n",
       "      dtype='object')"
      ]
     },
     "execution_count": 13,
     "metadata": {},
     "output_type": "execute_result"
    }
   ],
   "source": [
    "clin_trials = clin_trials.drop(['Responsible Party', 'Start Date', 'Organization Class', 'Medical Subject Headings'], axis = 1)\n",
    "clin_trials.columns"
   ]
  },
  {
   "cell_type": "code",
   "execution_count": 14,
   "id": "5f0c4978",
   "metadata": {
    "execution": {
     "iopub.execute_input": "2024-06-11T03:05:52.827307Z",
     "iopub.status.busy": "2024-06-11T03:05:52.826510Z",
     "iopub.status.idle": "2024-06-11T03:05:52.836773Z",
     "shell.execute_reply": "2024-06-11T03:05:52.835593Z"
    },
    "papermill": {
     "duration": 0.037186,
     "end_time": "2024-06-11T03:05:52.839336",
     "exception": false,
     "start_time": "2024-06-11T03:05:52.802150",
     "status": "completed"
    },
    "tags": []
   },
   "outputs": [
    {
     "data": {
      "text/plain": [
       "40"
      ]
     },
     "execution_count": 14,
     "metadata": {},
     "output_type": "execute_result"
    }
   ],
   "source": [
    "clin_trials['Year'].nunique()"
   ]
  },
  {
   "cell_type": "code",
   "execution_count": 15,
   "id": "99e5d928",
   "metadata": {
    "execution": {
     "iopub.execute_input": "2024-06-11T03:05:52.887470Z",
     "iopub.status.busy": "2024-06-11T03:05:52.887013Z",
     "iopub.status.idle": "2024-06-11T03:05:52.895163Z",
     "shell.execute_reply": "2024-06-11T03:05:52.894105Z"
    },
    "papermill": {
     "duration": 0.035085,
     "end_time": "2024-06-11T03:05:52.897611",
     "exception": false,
     "start_time": "2024-06-11T03:05:52.862526",
     "status": "completed"
    },
    "tags": []
   },
   "outputs": [
    {
     "data": {
      "text/plain": [
       "42688"
      ]
     },
     "execution_count": 15,
     "metadata": {},
     "output_type": "execute_result"
    }
   ],
   "source": [
    "clin_trials['Year'].isna().sum()"
   ]
  },
  {
   "cell_type": "markdown",
   "id": "63ed9283",
   "metadata": {
    "papermill": {
     "duration": 0.022803,
     "end_time": "2024-06-11T03:05:52.943606",
     "exception": false,
     "start_time": "2024-06-11T03:05:52.920803",
     "status": "completed"
    },
    "tags": []
   },
   "source": [
    "# Encoding Relevant Data"
   ]
  },
  {
   "cell_type": "code",
   "execution_count": 16,
   "id": "f1f5a448",
   "metadata": {
    "execution": {
     "iopub.execute_input": "2024-06-11T03:05:52.992587Z",
     "iopub.status.busy": "2024-06-11T03:05:52.992181Z",
     "iopub.status.idle": "2024-06-11T03:05:53.234028Z",
     "shell.execute_reply": "2024-06-11T03:05:53.232737Z"
    },
    "papermill": {
     "duration": 0.269871,
     "end_time": "2024-06-11T03:05:53.236894",
     "exception": false,
     "start_time": "2024-06-11T03:05:52.967023",
     "status": "completed"
    },
    "tags": []
   },
   "outputs": [],
   "source": [
    "\n",
    "encoder = OneHotEncoder(sparse=True)\n",
    "\n",
    "# Select only categorical columns for encoding\n",
    "categorical_data = clin_trials[categorical_cols]\n",
    "\n",
    "# Encode categorical columns\n",
    "encoded_trials = encoder.fit_transform(categorical_data)\n",
    "encoded_df = pd.DataFrame.sparse.from_spmatrix(encoded_trials, columns=encoder.get_feature_names_out(categorical_cols))\n"
   ]
  },
  {
   "cell_type": "code",
   "execution_count": 17,
   "id": "b99fd08e",
   "metadata": {
    "execution": {
     "iopub.execute_input": "2024-06-11T03:05:53.285308Z",
     "iopub.status.busy": "2024-06-11T03:05:53.284901Z",
     "iopub.status.idle": "2024-06-11T03:05:53.412248Z",
     "shell.execute_reply": "2024-06-11T03:05:53.411220Z"
    },
    "papermill": {
     "duration": 0.154885,
     "end_time": "2024-06-11T03:05:53.414956",
     "exception": false,
     "start_time": "2024-06-11T03:05:53.260071",
     "status": "completed"
    },
    "tags": []
   },
   "outputs": [],
   "source": [
    "clin_trials_encoded = clin_trials.drop(columns=categorical_cols)\n",
    "\n",
    "# Combine with encoded DataFrame\n",
    "clin_trials = pd.concat([clin_trials_encoded.reset_index(drop=True), encoded_df.reset_index(drop=True)], axis=1)"
   ]
  },
  {
   "cell_type": "code",
   "execution_count": 18,
   "id": "c2fa6477",
   "metadata": {
    "execution": {
     "iopub.execute_input": "2024-06-11T03:05:53.525404Z",
     "iopub.status.busy": "2024-06-11T03:05:53.525001Z",
     "iopub.status.idle": "2024-06-11T03:05:53.533088Z",
     "shell.execute_reply": "2024-06-11T03:05:53.531886Z"
    },
    "papermill": {
     "duration": 0.097634,
     "end_time": "2024-06-11T03:05:53.535831",
     "exception": false,
     "start_time": "2024-06-11T03:05:53.438197",
     "status": "completed"
    },
    "tags": []
   },
   "outputs": [
    {
     "data": {
      "text/plain": [
       "Index(['Organization Full Name', 'Brief Title', 'Full Title', 'Conditions',\n",
       "       'Interventions', 'Intervention Description', 'Outcome Measure',\n",
       "       'Overall Status_ACTIVE_NOT_RECRUITING',\n",
       "       'Overall Status_APPROVED_FOR_MARKETING', 'Overall Status_AVAILABLE',\n",
       "       'Overall Status_COMPLETED', 'Overall Status_ENROLLING_BY_INVITATION',\n",
       "       'Overall Status_NOT_YET_RECRUITING',\n",
       "       'Overall Status_NO_LONGER_AVAILABLE', 'Overall Status_RECRUITING',\n",
       "       'Overall Status_SUSPENDED', 'Overall Status_TEMPORARILY_NOT_AVAILABLE',\n",
       "       'Overall Status_TERMINATED', 'Overall Status_UNKNOWN',\n",
       "       'Overall Status_WITHDRAWN', 'Primary Purpose_BASIC_SCIENCE',\n",
       "       'Primary Purpose_DEVICE_FEASIBILITY', 'Primary Purpose_DIAGNOSTIC',\n",
       "       'Primary Purpose_HEALTH_SERVICES_RESEARCH', 'Primary Purpose_OTHER',\n",
       "       'Primary Purpose_PREVENTION', 'Primary Purpose_SCREENING',\n",
       "       'Primary Purpose_SUPPORTIVE_CARE', 'Primary Purpose_TREATMENT',\n",
       "       'Primary Purpose_Unknown', 'Study Type_EXPANDED_ACCESS',\n",
       "       'Study Type_INTERVENTIONAL', 'Study Type_OBSERVATIONAL',\n",
       "       'Standard Age_ADULT', 'Standard Age_ADULT OLDER_ADULT',\n",
       "       'Standard Age_CHILD', 'Standard Age_CHILD ADULT',\n",
       "       'Standard Age_CHILD ADULT OLDER_ADULT', 'Standard Age_OLDER_ADULT',\n",
       "       'Phases_EARLY_PHASE1', 'Phases_PHASE1', 'Phases_PHASE1, PHASE2',\n",
       "       'Phases_PHASE2', 'Phases_PHASE2, PHASE3', 'Phases_PHASE3',\n",
       "       'Phases_PHASE4', 'Phases_Unknown', 'Phases_nan', 'Year_1916.0',\n",
       "       'Year_1987.0', 'Year_1990.0', 'Year_1991.0', 'Year_1992.0',\n",
       "       'Year_1993.0', 'Year_1994.0', 'Year_1995.0', 'Year_1996.0',\n",
       "       'Year_1997.0', 'Year_1998.0', 'Year_1999.0', 'Year_2000.0',\n",
       "       'Year_2001.0', 'Year_2002.0', 'Year_2003.0', 'Year_2004.0',\n",
       "       'Year_2005.0', 'Year_2006.0', 'Year_2007.0', 'Year_2008.0',\n",
       "       'Year_2009.0', 'Year_2010.0', 'Year_2011.0', 'Year_2012.0',\n",
       "       'Year_2013.0', 'Year_2014.0', 'Year_2015.0', 'Year_2016.0',\n",
       "       'Year_2017.0', 'Year_2018.0', 'Year_2019.0', 'Year_2020.0',\n",
       "       'Year_2021.0', 'Year_2022.0', 'Year_2023.0', 'Year_2024.0',\n",
       "       'Year_2025.0', 'Year_2026.0', 'Year_2030.0', 'Year_nan'],\n",
       "      dtype='object')"
      ]
     },
     "execution_count": 18,
     "metadata": {},
     "output_type": "execute_result"
    }
   ],
   "source": [
    "clin_trials.columns"
   ]
  },
  {
   "cell_type": "code",
   "execution_count": 19,
   "id": "2dcb83d5",
   "metadata": {
    "execution": {
     "iopub.execute_input": "2024-06-11T03:05:53.584738Z",
     "iopub.status.busy": "2024-06-11T03:05:53.584306Z",
     "iopub.status.idle": "2024-06-11T03:05:53.622383Z",
     "shell.execute_reply": "2024-06-11T03:05:53.621253Z"
    },
    "papermill": {
     "duration": 0.065511,
     "end_time": "2024-06-11T03:05:53.624967",
     "exception": false,
     "start_time": "2024-06-11T03:05:53.559456",
     "status": "completed"
    },
    "tags": []
   },
   "outputs": [
    {
     "data": {
      "text/plain": [
       "Organization Full Name\n",
       "GlaxoSmithKline               3374\n",
       "Pfizer                        2772\n",
       "Novartis                      2772\n",
       "AstraZeneca                   2224\n",
       "Boehringer Ingelheim          1914\n",
       "                              ... \n",
       "Paragate Medical LTD             1\n",
       "Kendal Nutricare Ltd             1\n",
       "Oxford BioTherapeutics Ltd       1\n",
       "Kinarus AG                       1\n",
       "Crestone, Inc                    1\n",
       "Name: count, Length: 11732, dtype: int64"
      ]
     },
     "execution_count": 19,
     "metadata": {},
     "output_type": "execute_result"
    }
   ],
   "source": [
    "clin_trials['Organization Full Name'].value_counts()"
   ]
  },
  {
   "cell_type": "markdown",
   "id": "d7898636",
   "metadata": {
    "papermill": {
     "duration": 0.023267,
     "end_time": "2024-06-11T03:05:53.671950",
     "exception": false,
     "start_time": "2024-06-11T03:05:53.648683",
     "status": "completed"
    },
    "tags": []
   },
   "source": [
    "# Calculating Studies per Company"
   ]
  },
  {
   "cell_type": "code",
   "execution_count": 20,
   "id": "a3e181af",
   "metadata": {
    "execution": {
     "iopub.execute_input": "2024-06-11T03:05:53.720832Z",
     "iopub.status.busy": "2024-06-11T03:05:53.720370Z",
     "iopub.status.idle": "2024-06-11T03:05:53.755949Z",
     "shell.execute_reply": "2024-06-11T03:05:53.754465Z"
    },
    "papermill": {
     "duration": 0.063229,
     "end_time": "2024-06-11T03:05:53.758755",
     "exception": false,
     "start_time": "2024-06-11T03:05:53.695526",
     "status": "completed"
    },
    "tags": []
   },
   "outputs": [],
   "source": [
    "entry_count_df = clin_trials['Organization Full Name'].value_counts().reset_index()\n",
    "entry_count_df.columns = ['Organization Full Name', 'entry_count']"
   ]
  },
  {
   "cell_type": "code",
   "execution_count": 21,
   "id": "017c1a28",
   "metadata": {
    "execution": {
     "iopub.execute_input": "2024-06-11T03:05:53.807923Z",
     "iopub.status.busy": "2024-06-11T03:05:53.807475Z",
     "iopub.status.idle": "2024-06-11T03:05:53.818296Z",
     "shell.execute_reply": "2024-06-11T03:05:53.817238Z"
    },
    "papermill": {
     "duration": 0.038509,
     "end_time": "2024-06-11T03:05:53.820974",
     "exception": false,
     "start_time": "2024-06-11T03:05:53.782465",
     "status": "completed"
    },
    "tags": []
   },
   "outputs": [
    {
     "data": {
      "text/html": [
       "<div>\n",
       "<style scoped>\n",
       "    .dataframe tbody tr th:only-of-type {\n",
       "        vertical-align: middle;\n",
       "    }\n",
       "\n",
       "    .dataframe tbody tr th {\n",
       "        vertical-align: top;\n",
       "    }\n",
       "\n",
       "    .dataframe thead th {\n",
       "        text-align: right;\n",
       "    }\n",
       "</style>\n",
       "<table border=\"1\" class=\"dataframe\">\n",
       "  <thead>\n",
       "    <tr style=\"text-align: right;\">\n",
       "      <th></th>\n",
       "      <th>Organization Full Name</th>\n",
       "      <th>entry_count</th>\n",
       "    </tr>\n",
       "  </thead>\n",
       "  <tbody>\n",
       "    <tr>\n",
       "      <th>0</th>\n",
       "      <td>GlaxoSmithKline</td>\n",
       "      <td>3374</td>\n",
       "    </tr>\n",
       "    <tr>\n",
       "      <th>1</th>\n",
       "      <td>Pfizer</td>\n",
       "      <td>2772</td>\n",
       "    </tr>\n",
       "    <tr>\n",
       "      <th>2</th>\n",
       "      <td>Novartis</td>\n",
       "      <td>2772</td>\n",
       "    </tr>\n",
       "    <tr>\n",
       "      <th>3</th>\n",
       "      <td>AstraZeneca</td>\n",
       "      <td>2224</td>\n",
       "    </tr>\n",
       "    <tr>\n",
       "      <th>4</th>\n",
       "      <td>Boehringer Ingelheim</td>\n",
       "      <td>1914</td>\n",
       "    </tr>\n",
       "  </tbody>\n",
       "</table>\n",
       "</div>"
      ],
      "text/plain": [
       "  Organization Full Name  entry_count\n",
       "0        GlaxoSmithKline         3374\n",
       "1                 Pfizer         2772\n",
       "2               Novartis         2772\n",
       "3            AstraZeneca         2224\n",
       "4   Boehringer Ingelheim         1914"
      ]
     },
     "execution_count": 21,
     "metadata": {},
     "output_type": "execute_result"
    }
   ],
   "source": [
    "entry_count_df.head()"
   ]
  },
  {
   "cell_type": "code",
   "execution_count": 22,
   "id": "b5b8a2d2",
   "metadata": {
    "execution": {
     "iopub.execute_input": "2024-06-11T03:05:53.870496Z",
     "iopub.status.busy": "2024-06-11T03:05:53.870064Z",
     "iopub.status.idle": "2024-06-11T03:05:53.958812Z",
     "shell.execute_reply": "2024-06-11T03:05:53.957638Z"
    },
    "papermill": {
     "duration": 0.116539,
     "end_time": "2024-06-11T03:05:53.961615",
     "exception": false,
     "start_time": "2024-06-11T03:05:53.845076",
     "status": "completed"
    },
    "tags": []
   },
   "outputs": [],
   "source": [
    "clin_trials = clin_trials.merge(entry_count_df, on='Organization Full Name', how='left')"
   ]
  },
  {
   "cell_type": "code",
   "execution_count": 23,
   "id": "7eacdc4a",
   "metadata": {
    "execution": {
     "iopub.execute_input": "2024-06-11T03:05:54.012138Z",
     "iopub.status.busy": "2024-06-11T03:05:54.011719Z",
     "iopub.status.idle": "2024-06-11T03:05:54.019761Z",
     "shell.execute_reply": "2024-06-11T03:05:54.018628Z"
    },
    "papermill": {
     "duration": 0.036653,
     "end_time": "2024-06-11T03:05:54.022304",
     "exception": false,
     "start_time": "2024-06-11T03:05:53.985651",
     "status": "completed"
    },
    "tags": []
   },
   "outputs": [
    {
     "data": {
      "text/plain": [
       "Index(['Organization Full Name', 'Brief Title', 'Full Title', 'Conditions',\n",
       "       'Interventions', 'Intervention Description', 'Outcome Measure',\n",
       "       'Overall Status_ACTIVE_NOT_RECRUITING',\n",
       "       'Overall Status_APPROVED_FOR_MARKETING', 'Overall Status_AVAILABLE',\n",
       "       'Overall Status_COMPLETED', 'Overall Status_ENROLLING_BY_INVITATION',\n",
       "       'Overall Status_NOT_YET_RECRUITING',\n",
       "       'Overall Status_NO_LONGER_AVAILABLE', 'Overall Status_RECRUITING',\n",
       "       'Overall Status_SUSPENDED', 'Overall Status_TEMPORARILY_NOT_AVAILABLE',\n",
       "       'Overall Status_TERMINATED', 'Overall Status_UNKNOWN',\n",
       "       'Overall Status_WITHDRAWN', 'Primary Purpose_BASIC_SCIENCE',\n",
       "       'Primary Purpose_DEVICE_FEASIBILITY', 'Primary Purpose_DIAGNOSTIC',\n",
       "       'Primary Purpose_HEALTH_SERVICES_RESEARCH', 'Primary Purpose_OTHER',\n",
       "       'Primary Purpose_PREVENTION', 'Primary Purpose_SCREENING',\n",
       "       'Primary Purpose_SUPPORTIVE_CARE', 'Primary Purpose_TREATMENT',\n",
       "       'Primary Purpose_Unknown', 'Study Type_EXPANDED_ACCESS',\n",
       "       'Study Type_INTERVENTIONAL', 'Study Type_OBSERVATIONAL',\n",
       "       'Standard Age_ADULT', 'Standard Age_ADULT OLDER_ADULT',\n",
       "       'Standard Age_CHILD', 'Standard Age_CHILD ADULT',\n",
       "       'Standard Age_CHILD ADULT OLDER_ADULT', 'Standard Age_OLDER_ADULT',\n",
       "       'Phases_EARLY_PHASE1', 'Phases_PHASE1', 'Phases_PHASE1, PHASE2',\n",
       "       'Phases_PHASE2', 'Phases_PHASE2, PHASE3', 'Phases_PHASE3',\n",
       "       'Phases_PHASE4', 'Phases_Unknown', 'Phases_nan', 'Year_1916.0',\n",
       "       'Year_1987.0', 'Year_1990.0', 'Year_1991.0', 'Year_1992.0',\n",
       "       'Year_1993.0', 'Year_1994.0', 'Year_1995.0', 'Year_1996.0',\n",
       "       'Year_1997.0', 'Year_1998.0', 'Year_1999.0', 'Year_2000.0',\n",
       "       'Year_2001.0', 'Year_2002.0', 'Year_2003.0', 'Year_2004.0',\n",
       "       'Year_2005.0', 'Year_2006.0', 'Year_2007.0', 'Year_2008.0',\n",
       "       'Year_2009.0', 'Year_2010.0', 'Year_2011.0', 'Year_2012.0',\n",
       "       'Year_2013.0', 'Year_2014.0', 'Year_2015.0', 'Year_2016.0',\n",
       "       'Year_2017.0', 'Year_2018.0', 'Year_2019.0', 'Year_2020.0',\n",
       "       'Year_2021.0', 'Year_2022.0', 'Year_2023.0', 'Year_2024.0',\n",
       "       'Year_2025.0', 'Year_2026.0', 'Year_2030.0', 'Year_nan', 'entry_count'],\n",
       "      dtype='object')"
      ]
     },
     "execution_count": 23,
     "metadata": {},
     "output_type": "execute_result"
    }
   ],
   "source": [
    "clin_trials.columns"
   ]
  },
  {
   "cell_type": "markdown",
   "id": "fbcc7161",
   "metadata": {
    "papermill": {
     "duration": 0.023785,
     "end_time": "2024-06-11T03:05:54.070176",
     "exception": false,
     "start_time": "2024-06-11T03:05:54.046391",
     "status": "completed"
    },
    "tags": []
   },
   "source": [
    "# Combining titles and interventions "
   ]
  },
  {
   "cell_type": "code",
   "execution_count": 24,
   "id": "593546be",
   "metadata": {
    "execution": {
     "iopub.execute_input": "2024-06-11T03:05:54.120797Z",
     "iopub.status.busy": "2024-06-11T03:05:54.120378Z",
     "iopub.status.idle": "2024-06-11T03:05:54.125889Z",
     "shell.execute_reply": "2024-06-11T03:05:54.124565Z"
    },
    "id": "CwO4y4MBWC1j",
    "papermill": {
     "duration": 0.034248,
     "end_time": "2024-06-11T03:05:54.128479",
     "exception": false,
     "start_time": "2024-06-11T03:05:54.094231",
     "status": "completed"
    },
    "tags": []
   },
   "outputs": [],
   "source": [
    "combined_titles_cols = ['Brief Title', 'Full Title', 'Conditions']\n",
    "combined_inter_cols = ['Interventions', 'Intervention Description']\n"
   ]
  },
  {
   "cell_type": "code",
   "execution_count": 25,
   "id": "a7dc9ec8",
   "metadata": {
    "execution": {
     "iopub.execute_input": "2024-06-11T03:05:54.179772Z",
     "iopub.status.busy": "2024-06-11T03:05:54.179343Z",
     "iopub.status.idle": "2024-06-11T03:05:54.185460Z",
     "shell.execute_reply": "2024-06-11T03:05:54.184254Z"
    },
    "id": "newuvpJ2ZS95",
    "papermill": {
     "duration": 0.034769,
     "end_time": "2024-06-11T03:05:54.187927",
     "exception": false,
     "start_time": "2024-06-11T03:05:54.153158",
     "status": "completed"
    },
    "tags": []
   },
   "outputs": [],
   "source": [
    "def concat(columns):\n",
    "    cols = [col for col in columns]\n",
    "    clin_trials['combined_text'] = clin_trials[cols].agg(' '.join, axis=1)\n",
    "    clin_trials.columns"
   ]
  },
  {
   "cell_type": "code",
   "execution_count": 26,
   "id": "e600f291",
   "metadata": {
    "execution": {
     "iopub.execute_input": "2024-06-11T03:05:54.240015Z",
     "iopub.status.busy": "2024-06-11T03:05:54.238740Z",
     "iopub.status.idle": "2024-06-11T03:05:55.371303Z",
     "shell.execute_reply": "2024-06-11T03:05:55.369608Z"
    },
    "papermill": {
     "duration": 1.161234,
     "end_time": "2024-06-11T03:05:55.374163",
     "exception": false,
     "start_time": "2024-06-11T03:05:54.212929",
     "status": "completed"
    },
    "tags": []
   },
   "outputs": [],
   "source": [
    "concat(combined_titles_cols)"
   ]
  },
  {
   "cell_type": "code",
   "execution_count": 27,
   "id": "60cff26f",
   "metadata": {
    "execution": {
     "iopub.execute_input": "2024-06-11T03:05:55.426140Z",
     "iopub.status.busy": "2024-06-11T03:05:55.425751Z",
     "iopub.status.idle": "2024-06-11T03:05:55.470019Z",
     "shell.execute_reply": "2024-06-11T03:05:55.468943Z"
    },
    "papermill": {
     "duration": 0.073804,
     "end_time": "2024-06-11T03:05:55.472815",
     "exception": false,
     "start_time": "2024-06-11T03:05:55.399011",
     "status": "completed"
    },
    "tags": []
   },
   "outputs": [],
   "source": [
    "clin_trials['combined_titles'] = clin_trials['combined_text']\n",
    "clin_trials = clin_trials.drop(columns = ['combined_text'])"
   ]
  },
  {
   "cell_type": "code",
   "execution_count": 28,
   "id": "0dedb3d6",
   "metadata": {
    "execution": {
     "iopub.execute_input": "2024-06-11T03:05:55.523891Z",
     "iopub.status.busy": "2024-06-11T03:05:55.523471Z",
     "iopub.status.idle": "2024-06-11T03:05:56.593741Z",
     "shell.execute_reply": "2024-06-11T03:05:56.592093Z"
    },
    "papermill": {
     "duration": 1.099043,
     "end_time": "2024-06-11T03:05:56.596675",
     "exception": false,
     "start_time": "2024-06-11T03:05:55.497632",
     "status": "completed"
    },
    "tags": []
   },
   "outputs": [],
   "source": [
    "concat(combined_inter_cols)\n"
   ]
  },
  {
   "cell_type": "code",
   "execution_count": 29,
   "id": "c57d1876",
   "metadata": {
    "execution": {
     "iopub.execute_input": "2024-06-11T03:05:56.646938Z",
     "iopub.status.busy": "2024-06-11T03:05:56.646117Z",
     "iopub.status.idle": "2024-06-11T03:05:56.693311Z",
     "shell.execute_reply": "2024-06-11T03:05:56.692011Z"
    },
    "papermill": {
     "duration": 0.07568,
     "end_time": "2024-06-11T03:05:56.696460",
     "exception": false,
     "start_time": "2024-06-11T03:05:56.620780",
     "status": "completed"
    },
    "tags": []
   },
   "outputs": [],
   "source": [
    "clin_trials['Intervention Desc'] = clin_trials['combined_text']\n",
    "clin_trials = clin_trials.drop(columns = 'combined_text')\n"
   ]
  },
  {
   "cell_type": "code",
   "execution_count": 30,
   "id": "ab8dd27a",
   "metadata": {
    "execution": {
     "iopub.execute_input": "2024-06-11T03:05:56.747211Z",
     "iopub.status.busy": "2024-06-11T03:05:56.746799Z",
     "iopub.status.idle": "2024-06-11T03:05:56.783694Z",
     "shell.execute_reply": "2024-06-11T03:05:56.782467Z"
    },
    "papermill": {
     "duration": 0.065166,
     "end_time": "2024-06-11T03:05:56.786463",
     "exception": false,
     "start_time": "2024-06-11T03:05:56.721297",
     "status": "completed"
    },
    "tags": []
   },
   "outputs": [
    {
     "data": {
      "text/plain": [
       "Index(['Organization Full Name', 'Outcome Measure',\n",
       "       'Overall Status_ACTIVE_NOT_RECRUITING',\n",
       "       'Overall Status_APPROVED_FOR_MARKETING', 'Overall Status_AVAILABLE',\n",
       "       'Overall Status_COMPLETED', 'Overall Status_ENROLLING_BY_INVITATION',\n",
       "       'Overall Status_NOT_YET_RECRUITING',\n",
       "       'Overall Status_NO_LONGER_AVAILABLE', 'Overall Status_RECRUITING',\n",
       "       'Overall Status_SUSPENDED', 'Overall Status_TEMPORARILY_NOT_AVAILABLE',\n",
       "       'Overall Status_TERMINATED', 'Overall Status_UNKNOWN',\n",
       "       'Overall Status_WITHDRAWN', 'Primary Purpose_BASIC_SCIENCE',\n",
       "       'Primary Purpose_DEVICE_FEASIBILITY', 'Primary Purpose_DIAGNOSTIC',\n",
       "       'Primary Purpose_HEALTH_SERVICES_RESEARCH', 'Primary Purpose_OTHER',\n",
       "       'Primary Purpose_PREVENTION', 'Primary Purpose_SCREENING',\n",
       "       'Primary Purpose_SUPPORTIVE_CARE', 'Primary Purpose_TREATMENT',\n",
       "       'Primary Purpose_Unknown', 'Study Type_EXPANDED_ACCESS',\n",
       "       'Study Type_INTERVENTIONAL', 'Study Type_OBSERVATIONAL',\n",
       "       'Standard Age_ADULT', 'Standard Age_ADULT OLDER_ADULT',\n",
       "       'Standard Age_CHILD', 'Standard Age_CHILD ADULT',\n",
       "       'Standard Age_CHILD ADULT OLDER_ADULT', 'Standard Age_OLDER_ADULT',\n",
       "       'Phases_EARLY_PHASE1', 'Phases_PHASE1', 'Phases_PHASE1, PHASE2',\n",
       "       'Phases_PHASE2', 'Phases_PHASE2, PHASE3', 'Phases_PHASE3',\n",
       "       'Phases_PHASE4', 'Phases_Unknown', 'Phases_nan', 'Year_1916.0',\n",
       "       'Year_1987.0', 'Year_1990.0', 'Year_1991.0', 'Year_1992.0',\n",
       "       'Year_1993.0', 'Year_1994.0', 'Year_1995.0', 'Year_1996.0',\n",
       "       'Year_1997.0', 'Year_1998.0', 'Year_1999.0', 'Year_2000.0',\n",
       "       'Year_2001.0', 'Year_2002.0', 'Year_2003.0', 'Year_2004.0',\n",
       "       'Year_2005.0', 'Year_2006.0', 'Year_2007.0', 'Year_2008.0',\n",
       "       'Year_2009.0', 'Year_2010.0', 'Year_2011.0', 'Year_2012.0',\n",
       "       'Year_2013.0', 'Year_2014.0', 'Year_2015.0', 'Year_2016.0',\n",
       "       'Year_2017.0', 'Year_2018.0', 'Year_2019.0', 'Year_2020.0',\n",
       "       'Year_2021.0', 'Year_2022.0', 'Year_2023.0', 'Year_2024.0',\n",
       "       'Year_2025.0', 'Year_2026.0', 'Year_2030.0', 'Year_nan', 'entry_count',\n",
       "       'combined_titles', 'Intervention Desc'],\n",
       "      dtype='object')"
      ]
     },
     "execution_count": 30,
     "metadata": {},
     "output_type": "execute_result"
    }
   ],
   "source": [
    "clin_trials = clin_trials.drop(columns = ['Brief Title', 'Full Title', 'Conditions','Interventions', 'Intervention Description'])\n",
    "clin_trials.columns"
   ]
  },
  {
   "cell_type": "markdown",
   "id": "fb441842",
   "metadata": {
    "papermill": {
     "duration": 0.024744,
     "end_time": "2024-06-11T03:05:56.836426",
     "exception": false,
     "start_time": "2024-06-11T03:05:56.811682",
     "status": "completed"
    },
    "tags": []
   },
   "source": [
    "# Preprocessing Text for Vectorization"
   ]
  },
  {
   "cell_type": "code",
   "execution_count": 31,
   "id": "686cc918",
   "metadata": {
    "execution": {
     "iopub.execute_input": "2024-06-11T03:05:56.887584Z",
     "iopub.status.busy": "2024-06-11T03:05:56.887190Z",
     "iopub.status.idle": "2024-06-11T03:05:56.894809Z",
     "shell.execute_reply": "2024-06-11T03:05:56.893644Z"
    },
    "id": "WDUnjc4ELaby",
    "papermill": {
     "duration": 0.036472,
     "end_time": "2024-06-11T03:05:56.897288",
     "exception": false,
     "start_time": "2024-06-11T03:05:56.860816",
     "status": "completed"
    },
    "tags": []
   },
   "outputs": [],
   "source": [
    "def preprocess_text(text):\n",
    "    # Remove punctuation including '|'\n",
    "    text = text.translate(str.maketrans('', '', string.punctuation + '|')).lower()\n",
    "    # Tokenize\n",
    "    tokens = word_tokenize(text)\n",
    "    # Remove stopwords\n",
    "    tokens = [word for word in tokens if word not in stopwords.words('english')]\n",
    "    # Lemmatize\n",
    "    lemmatizer = WordNetLemmatizer()\n",
    "    tokens = [lemmatizer.lemmatize(word) for word in tokens]\n",
    "    return ' '.join(tokens)"
   ]
  },
  {
   "cell_type": "code",
   "execution_count": 32,
   "id": "94f2d9c5",
   "metadata": {
    "execution": {
     "iopub.execute_input": "2024-06-11T03:05:56.947290Z",
     "iopub.status.busy": "2024-06-11T03:05:56.946901Z",
     "iopub.status.idle": "2024-06-11T03:17:13.656871Z",
     "shell.execute_reply": "2024-06-11T03:17:13.655669Z"
    },
    "id": "a708GAEH7SsT",
    "papermill": {
     "duration": 676.738504,
     "end_time": "2024-06-11T03:17:13.659896",
     "exception": false,
     "start_time": "2024-06-11T03:05:56.921392",
     "status": "completed"
    },
    "tags": []
   },
   "outputs": [],
   "source": [
    "clin_trials['combined_titles'] = clin_trials['combined_titles'].apply(preprocess_text)\n"
   ]
  },
  {
   "cell_type": "code",
   "execution_count": 33,
   "id": "fd8d2762",
   "metadata": {
    "execution": {
     "iopub.execute_input": "2024-06-11T03:17:13.713098Z",
     "iopub.status.busy": "2024-06-11T03:17:13.711816Z",
     "iopub.status.idle": "2024-06-11T03:26:18.907143Z",
     "shell.execute_reply": "2024-06-11T03:26:18.905877Z"
    },
    "papermill": {
     "duration": 545.225576,
     "end_time": "2024-06-11T03:26:18.910217",
     "exception": false,
     "start_time": "2024-06-11T03:17:13.684641",
     "status": "completed"
    },
    "tags": []
   },
   "outputs": [],
   "source": [
    "clin_trials['Intervention Desc'] = clin_trials['Intervention Desc'].apply(preprocess_text)"
   ]
  },
  {
   "cell_type": "code",
   "execution_count": 34,
   "id": "d9acd854",
   "metadata": {
    "execution": {
     "iopub.execute_input": "2024-06-11T03:26:18.961230Z",
     "iopub.status.busy": "2024-06-11T03:26:18.960790Z",
     "iopub.status.idle": "2024-06-11T03:33:12.624017Z",
     "shell.execute_reply": "2024-06-11T03:33:12.622881Z"
    },
    "papermill": {
     "duration": 413.692483,
     "end_time": "2024-06-11T03:33:12.626908",
     "exception": false,
     "start_time": "2024-06-11T03:26:18.934425",
     "status": "completed"
    },
    "tags": []
   },
   "outputs": [],
   "source": [
    "clin_trials['Outcome Measure'] = clin_trials['Outcome Measure'].apply(preprocess_text)"
   ]
  },
  {
   "cell_type": "code",
   "execution_count": 35,
   "id": "ba1ce17a",
   "metadata": {
    "execution": {
     "iopub.execute_input": "2024-06-11T03:33:12.678525Z",
     "iopub.status.busy": "2024-06-11T03:33:12.677571Z",
     "iopub.status.idle": "2024-06-11T03:33:12.682753Z",
     "shell.execute_reply": "2024-06-11T03:33:12.681693Z"
    },
    "id": "HnSL-io5glwG",
    "papermill": {
     "duration": 0.032909,
     "end_time": "2024-06-11T03:33:12.685057",
     "exception": false,
     "start_time": "2024-06-11T03:33:12.652148",
     "status": "completed"
    },
    "tags": []
   },
   "outputs": [],
   "source": [
    "vectorizer = TfidfVectorizer(min_df = .01, max_df = .9)"
   ]
  },
  {
   "cell_type": "code",
   "execution_count": 36,
   "id": "02bf7f02",
   "metadata": {
    "execution": {
     "iopub.execute_input": "2024-06-11T03:33:12.735448Z",
     "iopub.status.busy": "2024-06-11T03:33:12.734502Z",
     "iopub.status.idle": "2024-06-11T03:33:16.960836Z",
     "shell.execute_reply": "2024-06-11T03:33:16.959736Z"
    },
    "id": "PSC-NLquhcMv",
    "papermill": {
     "duration": 4.254282,
     "end_time": "2024-06-11T03:33:16.963366",
     "exception": false,
     "start_time": "2024-06-11T03:33:12.709084",
     "status": "completed"
    },
    "tags": []
   },
   "outputs": [],
   "source": [
    "vec_title = vectorizer.fit_transform(clin_trials['combined_titles'])"
   ]
  },
  {
   "cell_type": "code",
   "execution_count": 37,
   "id": "354f84d3",
   "metadata": {
    "execution": {
     "iopub.execute_input": "2024-06-11T03:33:17.013749Z",
     "iopub.status.busy": "2024-06-11T03:33:17.012772Z",
     "iopub.status.idle": "2024-06-11T03:33:17.037333Z",
     "shell.execute_reply": "2024-06-11T03:33:17.036389Z"
    },
    "papermill": {
     "duration": 0.052239,
     "end_time": "2024-06-11T03:33:17.039877",
     "exception": false,
     "start_time": "2024-06-11T03:33:16.987638",
     "status": "completed"
    },
    "tags": []
   },
   "outputs": [],
   "source": [
    "vec_title_df = pd.DataFrame.sparse.from_spmatrix(vec_title, columns=vectorizer.get_feature_names_out())"
   ]
  },
  {
   "cell_type": "code",
   "execution_count": 38,
   "id": "9de46581",
   "metadata": {
    "execution": {
     "iopub.execute_input": "2024-06-11T03:33:17.089966Z",
     "iopub.status.busy": "2024-06-11T03:33:17.089233Z",
     "iopub.status.idle": "2024-06-11T03:33:20.634898Z",
     "shell.execute_reply": "2024-06-11T03:33:20.633671Z"
    },
    "papermill": {
     "duration": 3.573702,
     "end_time": "2024-06-11T03:33:20.637710",
     "exception": false,
     "start_time": "2024-06-11T03:33:17.064008",
     "status": "completed"
    },
    "tags": []
   },
   "outputs": [],
   "source": [
    "vec_intervention = vectorizer.fit_transform(clin_trials['Intervention Desc'])"
   ]
  },
  {
   "cell_type": "code",
   "execution_count": 39,
   "id": "f5cacafd",
   "metadata": {
    "execution": {
     "iopub.execute_input": "2024-06-11T03:33:20.688364Z",
     "iopub.status.busy": "2024-06-11T03:33:20.687934Z",
     "iopub.status.idle": "2024-06-11T03:33:20.704090Z",
     "shell.execute_reply": "2024-06-11T03:33:20.703075Z"
    },
    "papermill": {
     "duration": 0.044641,
     "end_time": "2024-06-11T03:33:20.706892",
     "exception": false,
     "start_time": "2024-06-11T03:33:20.662251",
     "status": "completed"
    },
    "tags": []
   },
   "outputs": [],
   "source": [
    "vec_intervention_df = pd.DataFrame.sparse.from_spmatrix(vec_intervention, columns = vectorizer.get_feature_names_out())"
   ]
  },
  {
   "cell_type": "code",
   "execution_count": 40,
   "id": "286599a9",
   "metadata": {
    "execution": {
     "iopub.execute_input": "2024-06-11T03:33:20.756943Z",
     "iopub.status.busy": "2024-06-11T03:33:20.756405Z",
     "iopub.status.idle": "2024-06-11T03:33:23.477966Z",
     "shell.execute_reply": "2024-06-11T03:33:23.477003Z"
    },
    "papermill": {
     "duration": 2.749737,
     "end_time": "2024-06-11T03:33:23.480637",
     "exception": false,
     "start_time": "2024-06-11T03:33:20.730900",
     "status": "completed"
    },
    "tags": []
   },
   "outputs": [],
   "source": [
    "vec_outcome = vectorizer.fit_transform(clin_trials['Outcome Measure'])"
   ]
  },
  {
   "cell_type": "code",
   "execution_count": 41,
   "id": "87a5926b",
   "metadata": {
    "execution": {
     "iopub.execute_input": "2024-06-11T03:33:23.530340Z",
     "iopub.status.busy": "2024-06-11T03:33:23.529956Z",
     "iopub.status.idle": "2024-06-11T03:33:23.546318Z",
     "shell.execute_reply": "2024-06-11T03:33:23.545402Z"
    },
    "papermill": {
     "duration": 0.043974,
     "end_time": "2024-06-11T03:33:23.548859",
     "exception": false,
     "start_time": "2024-06-11T03:33:23.504885",
     "status": "completed"
    },
    "tags": []
   },
   "outputs": [],
   "source": [
    "vec_outcome_df = pd.DataFrame.sparse.from_spmatrix(vec_outcome, columns = vectorizer.get_feature_names_out())"
   ]
  },
  {
   "cell_type": "markdown",
   "id": "05b9b29d",
   "metadata": {
    "papermill": {
     "duration": 0.023663,
     "end_time": "2024-06-11T03:33:23.596600",
     "exception": false,
     "start_time": "2024-06-11T03:33:23.572937",
     "status": "completed"
    },
    "tags": []
   },
   "source": [
    "# Scaling Data"
   ]
  },
  {
   "cell_type": "code",
   "execution_count": 42,
   "id": "db6e3695",
   "metadata": {
    "execution": {
     "iopub.execute_input": "2024-06-11T03:33:23.645846Z",
     "iopub.status.busy": "2024-06-11T03:33:23.645434Z",
     "iopub.status.idle": "2024-06-11T03:33:24.198355Z",
     "shell.execute_reply": "2024-06-11T03:33:24.197337Z"
    },
    "papermill": {
     "duration": 0.580842,
     "end_time": "2024-06-11T03:33:24.201136",
     "exception": false,
     "start_time": "2024-06-11T03:33:23.620294",
     "status": "completed"
    },
    "tags": []
   },
   "outputs": [],
   "source": [
    "non_sparse_cols = ['entry_count']\n",
    "sparse_scaler = MaxAbsScaler()\n",
    "title_sparse = sparse_scaler.fit_transform(vec_title_df)\n",
    "intervention_sparse = sparse_scaler.fit_transform(vec_intervention_df)\n",
    "outcome_sparse = sparse_scaler.fit_transform(vec_outcome_df)\n",
    "non_sparse_scaler = StandardScaler()\n",
    "scaled_non_sparse_data = non_sparse_scaler.fit_transform(clin_trials[non_sparse_cols])\n",
    "\n"
   ]
  },
  {
   "cell_type": "code",
   "execution_count": 43,
   "id": "f64a0307",
   "metadata": {
    "execution": {
     "iopub.execute_input": "2024-06-11T03:33:24.251082Z",
     "iopub.status.busy": "2024-06-11T03:33:24.250375Z",
     "iopub.status.idle": "2024-06-11T03:33:24.302166Z",
     "shell.execute_reply": "2024-06-11T03:33:24.301231Z"
    },
    "papermill": {
     "duration": 0.079805,
     "end_time": "2024-06-11T03:33:24.304925",
     "exception": false,
     "start_time": "2024-06-11T03:33:24.225120",
     "status": "completed"
    },
    "tags": []
   },
   "outputs": [],
   "source": [
    "title_sparse_df = pd.DataFrame.sparse.from_spmatrix(title_sparse, columns=vec_title_df.columns)\n",
    "intervention_sparse_df = pd.DataFrame.sparse.from_spmatrix(intervention_sparse, columns=vec_intervention_df.columns)\n",
    "outcome_sparse_df = pd.DataFrame.sparse.from_spmatrix(outcome_sparse, columns=vec_outcome_df.columns)\n",
    "scaled_non_sparse_df = pd.DataFrame(scaled_non_sparse_data, columns=non_sparse_cols)\n"
   ]
  },
  {
   "cell_type": "code",
   "execution_count": 44,
   "id": "eb8b9bdc",
   "metadata": {
    "execution": {
     "iopub.execute_input": "2024-06-11T03:33:24.354556Z",
     "iopub.status.busy": "2024-06-11T03:33:24.354169Z",
     "iopub.status.idle": "2024-06-11T03:33:24.365060Z",
     "shell.execute_reply": "2024-06-11T03:33:24.363875Z"
    },
    "papermill": {
     "duration": 0.038795,
     "end_time": "2024-06-11T03:33:24.367656",
     "exception": false,
     "start_time": "2024-06-11T03:33:24.328861",
     "status": "completed"
    },
    "tags": []
   },
   "outputs": [],
   "source": [
    "concatenated_columns = (\n",
    "    list(clin_trials[['Organization Full Name']].columns) +\n",
    "    list(title_sparse_df.columns) +  \n",
    "    list(intervention_sparse_df.columns) + \n",
    "    list(outcome_sparse_df.columns) + \n",
    "    list(encoded_df.columns) +\n",
    "    list(scaled_non_sparse_df.columns) # entry_count should be here\n",
    ")"
   ]
  },
  {
   "cell_type": "code",
   "execution_count": 45,
   "id": "dd07cdc9",
   "metadata": {
    "execution": {
     "iopub.execute_input": "2024-06-11T03:33:24.418302Z",
     "iopub.status.busy": "2024-06-11T03:33:24.417851Z",
     "iopub.status.idle": "2024-06-11T03:33:24.587736Z",
     "shell.execute_reply": "2024-06-11T03:33:24.586499Z"
    },
    "papermill": {
     "duration": 0.198732,
     "end_time": "2024-06-11T03:33:24.590624",
     "exception": false,
     "start_time": "2024-06-11T03:33:24.391892",
     "status": "completed"
    },
    "tags": []
   },
   "outputs": [],
   "source": [
    "clin_trials = pd.concat([\n",
    "    clin_trials[['Organization Full Name']].reset_index(drop=True),\n",
    "    title_sparse_df.reset_index(drop=True),\n",
    "    intervention_sparse_df.reset_index(drop=True),\n",
    "    outcome_sparse_df.reset_index(drop=True),\n",
    "    scaled_non_sparse_df.reset_index(drop=True),\n",
    "    encoded_df.reset_index(drop=True),\n",
    "], axis=1, ignore_index=True)\n",
    "clin_trials.columns = concatenated_columns"
   ]
  },
  {
   "cell_type": "markdown",
   "id": "75aabaf9",
   "metadata": {
    "papermill": {
     "duration": 0.023886,
     "end_time": "2024-06-11T03:33:24.640713",
     "exception": false,
     "start_time": "2024-06-11T03:33:24.616827",
     "status": "completed"
    },
    "tags": []
   },
   "source": [
    "# Resolving duplicate column names as a result of vectorization. "
   ]
  },
  {
   "cell_type": "code",
   "execution_count": 46,
   "id": "15271094",
   "metadata": {
    "execution": {
     "iopub.execute_input": "2024-06-11T03:33:24.691001Z",
     "iopub.status.busy": "2024-06-11T03:33:24.690572Z",
     "iopub.status.idle": "2024-06-11T03:33:24.698505Z",
     "shell.execute_reply": "2024-06-11T03:33:24.697129Z"
    },
    "papermill": {
     "duration": 0.035662,
     "end_time": "2024-06-11T03:33:24.701003",
     "exception": false,
     "start_time": "2024-06-11T03:33:24.665341",
     "status": "completed"
    },
    "tags": []
   },
   "outputs": [],
   "source": [
    "def resolve_duplicate_columns(df):\n",
    "    \"\"\"\n",
    "    Resolve duplicate column names in a DataFrame by appending _[i] to duplicate columns.\n",
    "\n",
    "    Parameters:\n",
    "    df (pandas.DataFrame): Input DataFrame.\n",
    "\n",
    "    Returns:\n",
    "    pandas.DataFrame: DataFrame with unique column names.\n",
    "    \"\"\"\n",
    "    seen = {}\n",
    "    new_columns = []\n",
    "    for column in df.columns:\n",
    "        if column in seen:\n",
    "            seen[column] += 1\n",
    "            new_columns.append(f\"{column}_{seen[column]}\")\n",
    "        else:\n",
    "            seen[column] = 1\n",
    "            new_columns.append(column)\n",
    "    df.columns = new_columns\n",
    "    return df"
   ]
  },
  {
   "cell_type": "code",
   "execution_count": 47,
   "id": "b26c173f",
   "metadata": {
    "execution": {
     "iopub.execute_input": "2024-06-11T03:33:24.750894Z",
     "iopub.status.busy": "2024-06-11T03:33:24.750148Z",
     "iopub.status.idle": "2024-06-11T03:33:24.755988Z",
     "shell.execute_reply": "2024-06-11T03:33:24.754915Z"
    },
    "papermill": {
     "duration": 0.033281,
     "end_time": "2024-06-11T03:33:24.758241",
     "exception": false,
     "start_time": "2024-06-11T03:33:24.724960",
     "status": "completed"
    },
    "tags": []
   },
   "outputs": [],
   "source": [
    "clin_trials = resolve_duplicate_columns(clin_trials)"
   ]
  },
  {
   "cell_type": "code",
   "execution_count": 48,
   "id": "cc5444f2",
   "metadata": {
    "execution": {
     "iopub.execute_input": "2024-06-11T03:33:24.808830Z",
     "iopub.status.busy": "2024-06-11T03:33:24.807848Z",
     "iopub.status.idle": "2024-06-11T03:33:24.815001Z",
     "shell.execute_reply": "2024-06-11T03:33:24.813914Z"
    },
    "papermill": {
     "duration": 0.034758,
     "end_time": "2024-06-11T03:33:24.817380",
     "exception": false,
     "start_time": "2024-06-11T03:33:24.782622",
     "status": "completed"
    },
    "tags": []
   },
   "outputs": [
    {
     "data": {
      "text/plain": [
       "700"
      ]
     },
     "execution_count": 48,
     "metadata": {},
     "output_type": "execute_result"
    }
   ],
   "source": [
    "len(clin_trials.columns)"
   ]
  },
  {
   "cell_type": "code",
   "execution_count": 49,
   "id": "7a7c0717",
   "metadata": {
    "execution": {
     "iopub.execute_input": "2024-06-11T03:33:24.867527Z",
     "iopub.status.busy": "2024-06-11T03:33:24.867115Z",
     "iopub.status.idle": "2024-06-11T03:50:57.775395Z",
     "shell.execute_reply": "2024-06-11T03:50:57.773863Z"
    },
    "papermill": {
     "duration": 1052.937145,
     "end_time": "2024-06-11T03:50:57.778779",
     "exception": false,
     "start_time": "2024-06-11T03:33:24.841634",
     "status": "completed"
    },
    "tags": []
   },
   "outputs": [],
   "source": [
    "clin_trials_grouped = clin_trials.groupby('Organization Full Name').mean().reset_index()\n",
    "    "
   ]
  },
  {
   "cell_type": "markdown",
   "id": "3a1a2c3e",
   "metadata": {
    "papermill": {
     "duration": 0.024552,
     "end_time": "2024-06-11T03:50:57.829449",
     "exception": false,
     "start_time": "2024-06-11T03:50:57.804897",
     "status": "completed"
    },
    "tags": []
   },
   "source": [
    "# Separating out the 'Organization Full Name' for Dimensionality Reduction"
   ]
  },
  {
   "cell_type": "code",
   "execution_count": 50,
   "id": "d76dda7e",
   "metadata": {
    "execution": {
     "iopub.execute_input": "2024-06-11T03:50:57.880260Z",
     "iopub.status.busy": "2024-06-11T03:50:57.879817Z",
     "iopub.status.idle": "2024-06-11T03:50:58.057119Z",
     "shell.execute_reply": "2024-06-11T03:50:58.055726Z"
    },
    "papermill": {
     "duration": 0.206093,
     "end_time": "2024-06-11T03:50:58.059896",
     "exception": false,
     "start_time": "2024-06-11T03:50:57.853803",
     "status": "completed"
    },
    "tags": []
   },
   "outputs": [],
   "source": [
    "X = clin_trials_grouped.drop(columns=['Organization Full Name'])\n",
    "y = clin_trials_grouped['Organization Full Name']"
   ]
  },
  {
   "cell_type": "code",
   "execution_count": 51,
   "id": "9818cd8e",
   "metadata": {
    "execution": {
     "iopub.execute_input": "2024-06-11T03:50:58.110747Z",
     "iopub.status.busy": "2024-06-11T03:50:58.109529Z",
     "iopub.status.idle": "2024-06-11T03:50:58.115501Z",
     "shell.execute_reply": "2024-06-11T03:50:58.114541Z"
    },
    "papermill": {
     "duration": 0.034024,
     "end_time": "2024-06-11T03:50:58.118030",
     "exception": false,
     "start_time": "2024-06-11T03:50:58.084006",
     "status": "completed"
    },
    "tags": []
   },
   "outputs": [],
   "source": [
    "n_components_list = [2, 5, 10, 20, 50, 100, 200, 300, 400]"
   ]
  },
  {
   "cell_type": "code",
   "execution_count": 52,
   "id": "d94d3d91",
   "metadata": {
    "execution": {
     "iopub.execute_input": "2024-06-11T03:50:58.168088Z",
     "iopub.status.busy": "2024-06-11T03:50:58.167384Z",
     "iopub.status.idle": "2024-06-11T03:51:17.546004Z",
     "shell.execute_reply": "2024-06-11T03:51:17.544512Z"
    },
    "papermill": {
     "duration": 19.407835,
     "end_time": "2024-06-11T03:51:17.550062",
     "exception": false,
     "start_time": "2024-06-11T03:50:58.142227",
     "status": "completed"
    },
    "tags": []
   },
   "outputs": [
    {
     "name": "stdout",
     "output_type": "stream",
     "text": [
      "n_components=2: Total explained variance=0.1375\n",
      "n_components=5: Total explained variance=0.3081\n",
      "n_components=10: Total explained variance=0.4262\n",
      "n_components=20: Total explained variance=0.5384\n",
      "n_components=50: Total explained variance=0.6667\n",
      "n_components=100: Total explained variance=0.7547\n",
      "n_components=200: Total explained variance=0.8552\n",
      "n_components=300: Total explained variance=0.9140\n",
      "n_components=400: Total explained variance=0.9523\n"
     ]
    }
   ],
   "source": [
    "explained_variance_results = {}\n",
    "\n",
    "for n in n_components_list:\n",
    "    # Apply TruncatedSVD\n",
    "    svd = TruncatedSVD(n_components=n, random_state=42)\n",
    "    X_reduced = svd.fit_transform(X)\n",
    "\n",
    "    # Calculate explained variance ratio\n",
    "    explained_variance = svd.explained_variance_ratio_\n",
    "    total_explained_variance = explained_variance.sum()\n",
    "\n",
    "    # Store the results\n",
    "    explained_variance_results[n] = total_explained_variance\n",
    "\n",
    "# Print the results\n",
    "for n, variance in explained_variance_results.items():\n",
    "    print(f\"n_components={n}: Total explained variance={variance:.4f}\")"
   ]
  },
  {
   "cell_type": "markdown",
   "id": "c5993677",
   "metadata": {
    "papermill": {
     "duration": 0.024238,
     "end_time": "2024-06-11T03:51:17.599073",
     "exception": false,
     "start_time": "2024-06-11T03:51:17.574835",
     "status": "completed"
    },
    "tags": []
   },
   "source": [
    "# Using 400 components to get 95% of the variation. "
   ]
  },
  {
   "cell_type": "code",
   "execution_count": 53,
   "id": "7dcf9185",
   "metadata": {
    "execution": {
     "iopub.execute_input": "2024-06-11T03:51:17.649216Z",
     "iopub.status.busy": "2024-06-11T03:51:17.648827Z",
     "iopub.status.idle": "2024-06-11T03:51:22.429763Z",
     "shell.execute_reply": "2024-06-11T03:51:22.428439Z"
    },
    "papermill": {
     "duration": 4.809309,
     "end_time": "2024-06-11T03:51:22.432495",
     "exception": false,
     "start_time": "2024-06-11T03:51:17.623186",
     "status": "completed"
    },
    "tags": []
   },
   "outputs": [],
   "source": [
    "calc_svd = TruncatedSVD(n_components = 400, random_state=42)\n",
    "calc_X = calc_svd.fit_transform(X)\n",
    "clin_trials_calc = pd.concat([y.reset_index(drop = True), pd.DataFrame(calc_X)], axis = 1)"
   ]
  },
  {
   "cell_type": "markdown",
   "id": "ba91e715",
   "metadata": {
    "papermill": {
     "duration": 0.024129,
     "end_time": "2024-06-11T03:51:22.481192",
     "exception": false,
     "start_time": "2024-06-11T03:51:22.457063",
     "status": "completed"
    },
    "tags": []
   },
   "source": [
    "# Function to Find Companies Similar To Target"
   ]
  },
  {
   "cell_type": "code",
   "execution_count": 54,
   "id": "67eb0b2d",
   "metadata": {
    "execution": {
     "iopub.execute_input": "2024-06-11T03:51:22.531878Z",
     "iopub.status.busy": "2024-06-11T03:51:22.531442Z",
     "iopub.status.idle": "2024-06-11T03:51:22.540177Z",
     "shell.execute_reply": "2024-06-11T03:51:22.538855Z"
    },
    "papermill": {
     "duration": 0.037318,
     "end_time": "2024-06-11T03:51:22.542823",
     "exception": false,
     "start_time": "2024-06-11T03:51:22.505505",
     "status": "completed"
    },
    "tags": []
   },
   "outputs": [],
   "source": [
    "def find_closest_organizations(organization_name, df = clin_trials_calc, n=5):\n",
    "    \"\"\"\n",
    "    Find the n closest organization names to the given organization name.\n",
    "\n",
    "    Parameters:\n",
    "    organization_name (str): The organization name to search for.\n",
    "    n (int): Number of closest organization names to return.\n",
    "\n",
    "    Returns:\n",
    "    list: List of the n closest organization names.\n",
    "    \"\"\"\n",
    "    # Find the index of the organization name\n",
    "    idx = df['Organization Full Name'].str.contains(organization_name).idxmax()\n",
    "\n",
    "    # Retrieve the corresponding reduced feature vector\n",
    "    target_vector = df.iloc[idx, 1:].values  # Assuming feature vectors start from the second column\n",
    "\n",
    "    # Calculate cosine distances between the target vector and all other vectors\n",
    "    distances = cosine_distances([target_vector], df.iloc[:, 1:].values)  # Exclude the organization name column\n",
    "\n",
    "    # Get the indices of the n smallest distances\n",
    "    closest_indices = np.argsort(distances[0])[:n+1]\n",
    "    \n",
    "    closest_indices = closest_indices[closest_indices != idx]\n",
    "\n",
    "    # Return the closest organization names\n",
    "    closest_orgs = df.iloc[closest_indices, 0].tolist()  # Assuming organization names are in the first column\n",
    "    return closest_orgs"
   ]
  },
  {
   "cell_type": "code",
   "execution_count": 55,
   "id": "929c88be",
   "metadata": {
    "execution": {
     "iopub.execute_input": "2024-06-11T03:51:22.596573Z",
     "iopub.status.busy": "2024-06-11T03:51:22.596167Z",
     "iopub.status.idle": "2024-06-11T03:51:22.601470Z",
     "shell.execute_reply": "2024-06-11T03:51:22.600320Z"
    },
    "papermill": {
     "duration": 0.03535,
     "end_time": "2024-06-11T03:51:22.603814",
     "exception": false,
     "start_time": "2024-06-11T03:51:22.568464",
     "status": "completed"
    },
    "tags": []
   },
   "outputs": [],
   "source": [
    "# In my opinion the below worked better than a google search. At least for Sarpeta (chosen for my knowledge of the company)\n",
    "\n",
    "# Simply searching for Duchnenne Muscular Dystrophy on Google, which is a specialization of Sarepta, I could not quickly find NS Pharma, \n",
    "# which also specializes in Duchnenne Muscular Dystrophy. \n",
    "\n",
    "# All of the top five except Vertex focuses (or focused) solely on rare diseases, \n",
    "#and even Vertex does significant research in the area as well as genetic research. \n",
    "#All of the top 10 were either focused on rare diseases or CNS diseases. \n"
   ]
  },
  {
   "cell_type": "code",
   "execution_count": 56,
   "id": "4fbd3a42",
   "metadata": {
    "execution": {
     "iopub.execute_input": "2024-06-11T03:51:22.654504Z",
     "iopub.status.busy": "2024-06-11T03:51:22.654108Z",
     "iopub.status.idle": "2024-06-11T03:51:22.726419Z",
     "shell.execute_reply": "2024-06-11T03:51:22.725161Z"
    },
    "papermill": {
     "duration": 0.101997,
     "end_time": "2024-06-11T03:51:22.730413",
     "exception": false,
     "start_time": "2024-06-11T03:51:22.628416",
     "status": "completed"
    },
    "tags": []
   },
   "outputs": [
    {
     "data": {
      "text/plain": [
       "['NS Pharma, Inc.',\n",
       " 'PTC Therapeutics',\n",
       " 'Horizon Pharma USA, Inc.',\n",
       " 'Alexion Pharmaceuticals, Inc.',\n",
       " 'Vertex Pharmaceuticals Incorporated',\n",
       " 'ReAlta Life Sciences, Inc.',\n",
       " 'Neurocrine Biosciences',\n",
       " 'Supernus Pharmaceuticals, Inc.',\n",
       " 'Shanghai Ark Biopharmaceutical Co., Ltd.',\n",
       " 'Zealand Pharma']"
      ]
     },
     "execution_count": 56,
     "metadata": {},
     "output_type": "execute_result"
    }
   ],
   "source": [
    "find_closest_organizations('Sarepta', n = 10)"
   ]
  },
  {
   "cell_type": "code",
   "execution_count": 57,
   "id": "87ec1204",
   "metadata": {
    "execution": {
     "iopub.execute_input": "2024-06-11T03:51:22.836854Z",
     "iopub.status.busy": "2024-06-11T03:51:22.834965Z",
     "iopub.status.idle": "2024-06-11T03:52:48.798825Z",
     "shell.execute_reply": "2024-06-11T03:52:48.797732Z"
    },
    "papermill": {
     "duration": 86.020313,
     "end_time": "2024-06-11T03:52:48.802156",
     "exception": false,
     "start_time": "2024-06-11T03:51:22.781843",
     "status": "completed"
    },
    "tags": []
   },
   "outputs": [],
   "source": [
    "tsne = TSNE(n_components=2, random_state=42)\n",
    "tsne_results = tsne.fit_transform(X)\n",
    "tsne_results_df = pd.DataFrame(tsne_results, columns=['t-SNE Component 1', 't-SNE Component 2'])\n",
    "\n",
    "# Add 'Organization Full Name' column to tsne_results_df\n",
    "tsne_results_df['Organization Full Name'] = clin_trials_calc['Organization Full Name']"
   ]
  },
  {
   "cell_type": "code",
   "execution_count": 58,
   "id": "26882cd1",
   "metadata": {
    "execution": {
     "iopub.execute_input": "2024-06-11T03:52:48.862272Z",
     "iopub.status.busy": "2024-06-11T03:52:48.861779Z",
     "iopub.status.idle": "2024-06-11T03:52:48.876279Z",
     "shell.execute_reply": "2024-06-11T03:52:48.875255Z"
    },
    "papermill": {
     "duration": 0.043819,
     "end_time": "2024-06-11T03:52:48.878904",
     "exception": false,
     "start_time": "2024-06-11T03:52:48.835085",
     "status": "completed"
    },
    "tags": []
   },
   "outputs": [],
   "source": [
    "def plot_closest_organizations(target_org, n_closest=25):\n",
    "    \"\"\"\n",
    "    Plot the closest organizations to a target organization based on t-SNE results.\n",
    "\n",
    "    Parameters:\n",
    "    - tsne_results_df (pandas.DataFrame): DataFrame containing t-SNE results.\n",
    "    - target_org (str): The target organization.\n",
    "    - n_closest (int): Number of closest organizations to visualize. Default is 20.\n",
    "    \"\"\"\n",
    "    # Find the closest organizations to the target organization\n",
    "    closest_orgs = find_closest_organizations(target_org, n=n_closest)\n",
    "\n",
    "    # Create an empty figure\n",
    "    fig = go.Figure()\n",
    "\n",
    "    # Iterate through the closest organizations and add them to the plot\n",
    "    for org in closest_orgs:\n",
    "        closest_org_df = tsne_results_df[tsne_results_df['Organization Full Name'] == org]\n",
    "        fig.add_trace(go.Scatter(\n",
    "            x=closest_org_df['t-SNE Component 1'],\n",
    "            y=closest_org_df['t-SNE Component 2'],\n",
    "            mode='markers',\n",
    "            marker=dict(color='red', size=8),\n",
    "            name=org,\n",
    "        ))\n",
    "\n",
    "    # Add the target organization with a different marker\n",
    "    target_org_df = tsne_results_df[tsne_results_df['Organization Full Name'].str.contains(target_org, case=False)]\n",
    "    fig.add_trace(go.Scatter(\n",
    "        x=target_org_df['t-SNE Component 1'],\n",
    "        y=target_org_df['t-SNE Component 2'],\n",
    "        mode='markers',\n",
    "        marker=dict(color='blue', size=12, symbol='x'),\n",
    "        name=target_org,\n",
    "    ))\n",
    "\n",
    "    # Update layout\n",
    "    fig.update_layout(\n",
    "        title=f'Closest Organizations to {target_org}',\n",
    "        xaxis_title='t-SNE Component 1',\n",
    "        yaxis_title='t-SNE Component 2',\n",
    "    )\n",
    "\n",
    "    # Show the plot\n",
    "    fig.show()"
   ]
  },
  {
   "cell_type": "markdown",
   "id": "cf69fcb0",
   "metadata": {
    "papermill": {
     "duration": 0.027475,
     "end_time": "2024-06-11T03:52:48.931775",
     "exception": false,
     "start_time": "2024-06-11T03:52:48.904300",
     "status": "completed"
    },
    "tags": []
   },
   "source": [
    "# Graphing Based on Company\n",
    "#### Note: this will not be as accurate as the function that simply returns a list in terms of closest to the target. But it might be of interest to see graphical.\n",
    "#### Other Note: The Legend is kept, it is an accurate representation of the order of closeness as determined by the find_closest_organization function"
   ]
  },
  {
   "cell_type": "code",
   "execution_count": 59,
   "id": "6299b4df",
   "metadata": {
    "execution": {
     "iopub.execute_input": "2024-06-11T03:52:48.990244Z",
     "iopub.status.busy": "2024-06-11T03:52:48.989839Z",
     "iopub.status.idle": "2024-06-11T03:52:49.636323Z",
     "shell.execute_reply": "2024-06-11T03:52:49.635212Z"
    },
    "papermill": {
     "duration": 0.679655,
     "end_time": "2024-06-11T03:52:49.639157",
     "exception": false,
     "start_time": "2024-06-11T03:52:48.959502",
     "status": "completed"
    },
    "tags": []
   },
   "outputs": [
    {
     "data": {
      "text/html": [
       "        <script type=\"text/javascript\">\n",
       "        window.PlotlyConfig = {MathJaxConfig: 'local'};\n",
       "        if (window.MathJax && window.MathJax.Hub && window.MathJax.Hub.Config) {window.MathJax.Hub.Config({SVG: {font: \"STIX-Web\"}});}\n",
       "        if (typeof require !== 'undefined') {\n",
       "        require.undef(\"plotly\");\n",
       "        requirejs.config({\n",
       "            paths: {\n",
       "                'plotly': ['https://cdn.plot.ly/plotly-2.27.0.min']\n",
       "            }\n",
       "        });\n",
       "        require(['plotly'], function(Plotly) {\n",
       "            window._Plotly = Plotly;\n",
       "        });\n",
       "        }\n",
       "        </script>\n",
       "        "
      ]
     },
     "metadata": {},
     "output_type": "display_data"
    },
    {
     "data": {
      "text/html": [
       "<div>                            <div id=\"4d7ba4e5-2524-4f56-b0c6-b845ffd317c3\" class=\"plotly-graph-div\" style=\"height:525px; width:100%;\"></div>            <script type=\"text/javascript\">                require([\"plotly\"], function(Plotly) {                    window.PLOTLYENV=window.PLOTLYENV || {};                                    if (document.getElementById(\"4d7ba4e5-2524-4f56-b0c6-b845ffd317c3\")) {                    Plotly.newPlot(                        \"4d7ba4e5-2524-4f56-b0c6-b845ffd317c3\",                        [{\"marker\":{\"color\":\"red\",\"size\":8},\"mode\":\"markers\",\"name\":\"NS Pharma, Inc.\",\"x\":[-18.57416],\"y\":[28.285265],\"type\":\"scatter\"},{\"marker\":{\"color\":\"red\",\"size\":8},\"mode\":\"markers\",\"name\":\"PTC Therapeutics\",\"x\":[-17.093796],\"y\":[26.140337],\"type\":\"scatter\"},{\"marker\":{\"color\":\"red\",\"size\":8},\"mode\":\"markers\",\"name\":\"Horizon Pharma USA, Inc.\",\"x\":[-16.305157],\"y\":[20.7137],\"type\":\"scatter\"},{\"marker\":{\"color\":\"red\",\"size\":8},\"mode\":\"markers\",\"name\":\"Alexion Pharmaceuticals, Inc.\",\"x\":[-14.49105],\"y\":[24.125385],\"type\":\"scatter\"},{\"marker\":{\"color\":\"red\",\"size\":8},\"mode\":\"markers\",\"name\":\"Vertex Pharmaceuticals Incorporated\",\"x\":[-17.278858],\"y\":[21.641975],\"type\":\"scatter\"},{\"marker\":{\"color\":\"red\",\"size\":8},\"mode\":\"markers\",\"name\":\"ReAlta Life Sciences, Inc.\",\"x\":[-46.23726],\"y\":[-21.600248],\"type\":\"scatter\"},{\"marker\":{\"color\":\"red\",\"size\":8},\"mode\":\"markers\",\"name\":\"Neurocrine Biosciences\",\"x\":[-33.87881],\"y\":[11.630763],\"type\":\"scatter\"},{\"marker\":{\"color\":\"red\",\"size\":8},\"mode\":\"markers\",\"name\":\"Supernus Pharmaceuticals, Inc.\",\"x\":[-19.105518],\"y\":[23.882132],\"type\":\"scatter\"},{\"marker\":{\"color\":\"red\",\"size\":8},\"mode\":\"markers\",\"name\":\"Shanghai Ark Biopharmaceutical Co., Ltd.\",\"x\":[-34.516987],\"y\":[-21.388945],\"type\":\"scatter\"},{\"marker\":{\"color\":\"red\",\"size\":8},\"mode\":\"markers\",\"name\":\"Zealand Pharma\",\"x\":[-26.286493],\"y\":[16.547272],\"type\":\"scatter\"},{\"marker\":{\"color\":\"red\",\"size\":8},\"mode\":\"markers\",\"name\":\"Mirum Pharmaceuticals, Inc.\",\"x\":[-18.345442],\"y\":[26.071573],\"type\":\"scatter\"},{\"marker\":{\"color\":\"red\",\"size\":8},\"mode\":\"markers\",\"name\":\"Sage Therapeutics\",\"x\":[-34.466717],\"y\":[12.756566],\"type\":\"scatter\"},{\"marker\":{\"color\":\"red\",\"size\":8},\"mode\":\"markers\",\"name\":\"BioMarin Pharmaceutical\",\"x\":[-11.697109],\"y\":[26.754631],\"type\":\"scatter\"},{\"marker\":{\"color\":\"red\",\"size\":8},\"mode\":\"markers\",\"name\":\"SK Life Science, Inc.\",\"x\":[-17.052013],\"y\":[20.661541],\"type\":\"scatter\"},{\"marker\":{\"color\":\"red\",\"size\":8},\"mode\":\"markers\",\"name\":\"Marinus Pharmaceuticals\",\"x\":[-19.416536],\"y\":[26.221027],\"type\":\"scatter\"},{\"marker\":{\"color\":\"red\",\"size\":8},\"mode\":\"markers\",\"name\":\"Regeneron Pharmaceuticals\",\"x\":[-38.928883],\"y\":[9.530089],\"type\":\"scatter\"},{\"marker\":{\"color\":\"red\",\"size\":8},\"mode\":\"markers\",\"name\":\"CSL Behring\",\"x\":[-13.348979],\"y\":[23.875084],\"type\":\"scatter\"},{\"marker\":{\"color\":\"red\",\"size\":8},\"mode\":\"markers\",\"name\":\"Rhythm Pharmaceuticals, Inc.\",\"x\":[-15.945235],\"y\":[24.995955],\"type\":\"scatter\"},{\"marker\":{\"color\":\"red\",\"size\":8},\"mode\":\"markers\",\"name\":\"Nobelpharma\",\"x\":[-16.306396],\"y\":[21.666307],\"type\":\"scatter\"},{\"marker\":{\"color\":\"red\",\"size\":8},\"mode\":\"markers\",\"name\":\"H. Lundbeck A\\u002fS\",\"x\":[-20.292841],\"y\":[11.41086],\"type\":\"scatter\"},{\"marker\":{\"color\":\"red\",\"size\":8},\"mode\":\"markers\",\"name\":\"Insmed Incorporated\",\"x\":[-36.434715],\"y\":[12.808647],\"type\":\"scatter\"},{\"marker\":{\"color\":\"red\",\"size\":8},\"mode\":\"markers\",\"name\":\"Italfarmaco\",\"x\":[-29.299376],\"y\":[9.753131],\"type\":\"scatter\"},{\"marker\":{\"color\":\"red\",\"size\":8},\"mode\":\"markers\",\"name\":\"Dicerna Pharmaceuticals, Inc., a Novo Nordisk company\",\"x\":[-39.00044],\"y\":[9.279687],\"type\":\"scatter\"},{\"marker\":{\"color\":\"red\",\"size\":8},\"mode\":\"markers\",\"name\":\"Savara Inc.\",\"x\":[-20.931583],\"y\":[14.656316],\"type\":\"scatter\"},{\"marker\":{\"color\":\"red\",\"size\":8},\"mode\":\"markers\",\"name\":\"Medipost Co Ltd.\",\"x\":[-20.335617],\"y\":[12.709655],\"type\":\"scatter\"},{\"marker\":{\"color\":\"blue\",\"size\":12,\"symbol\":\"x\"},\"mode\":\"markers\",\"name\":\"Sarepta\",\"x\":[-17.713053],\"y\":[27.92656],\"type\":\"scatter\"}],                        {\"template\":{\"data\":{\"histogram2dcontour\":[{\"type\":\"histogram2dcontour\",\"colorbar\":{\"outlinewidth\":0,\"ticks\":\"\"},\"colorscale\":[[0.0,\"#0d0887\"],[0.1111111111111111,\"#46039f\"],[0.2222222222222222,\"#7201a8\"],[0.3333333333333333,\"#9c179e\"],[0.4444444444444444,\"#bd3786\"],[0.5555555555555556,\"#d8576b\"],[0.6666666666666666,\"#ed7953\"],[0.7777777777777778,\"#fb9f3a\"],[0.8888888888888888,\"#fdca26\"],[1.0,\"#f0f921\"]]}],\"choropleth\":[{\"type\":\"choropleth\",\"colorbar\":{\"outlinewidth\":0,\"ticks\":\"\"}}],\"histogram2d\":[{\"type\":\"histogram2d\",\"colorbar\":{\"outlinewidth\":0,\"ticks\":\"\"},\"colorscale\":[[0.0,\"#0d0887\"],[0.1111111111111111,\"#46039f\"],[0.2222222222222222,\"#7201a8\"],[0.3333333333333333,\"#9c179e\"],[0.4444444444444444,\"#bd3786\"],[0.5555555555555556,\"#d8576b\"],[0.6666666666666666,\"#ed7953\"],[0.7777777777777778,\"#fb9f3a\"],[0.8888888888888888,\"#fdca26\"],[1.0,\"#f0f921\"]]}],\"heatmap\":[{\"type\":\"heatmap\",\"colorbar\":{\"outlinewidth\":0,\"ticks\":\"\"},\"colorscale\":[[0.0,\"#0d0887\"],[0.1111111111111111,\"#46039f\"],[0.2222222222222222,\"#7201a8\"],[0.3333333333333333,\"#9c179e\"],[0.4444444444444444,\"#bd3786\"],[0.5555555555555556,\"#d8576b\"],[0.6666666666666666,\"#ed7953\"],[0.7777777777777778,\"#fb9f3a\"],[0.8888888888888888,\"#fdca26\"],[1.0,\"#f0f921\"]]}],\"heatmapgl\":[{\"type\":\"heatmapgl\",\"colorbar\":{\"outlinewidth\":0,\"ticks\":\"\"},\"colorscale\":[[0.0,\"#0d0887\"],[0.1111111111111111,\"#46039f\"],[0.2222222222222222,\"#7201a8\"],[0.3333333333333333,\"#9c179e\"],[0.4444444444444444,\"#bd3786\"],[0.5555555555555556,\"#d8576b\"],[0.6666666666666666,\"#ed7953\"],[0.7777777777777778,\"#fb9f3a\"],[0.8888888888888888,\"#fdca26\"],[1.0,\"#f0f921\"]]}],\"contourcarpet\":[{\"type\":\"contourcarpet\",\"colorbar\":{\"outlinewidth\":0,\"ticks\":\"\"}}],\"contour\":[{\"type\":\"contour\",\"colorbar\":{\"outlinewidth\":0,\"ticks\":\"\"},\"colorscale\":[[0.0,\"#0d0887\"],[0.1111111111111111,\"#46039f\"],[0.2222222222222222,\"#7201a8\"],[0.3333333333333333,\"#9c179e\"],[0.4444444444444444,\"#bd3786\"],[0.5555555555555556,\"#d8576b\"],[0.6666666666666666,\"#ed7953\"],[0.7777777777777778,\"#fb9f3a\"],[0.8888888888888888,\"#fdca26\"],[1.0,\"#f0f921\"]]}],\"surface\":[{\"type\":\"surface\",\"colorbar\":{\"outlinewidth\":0,\"ticks\":\"\"},\"colorscale\":[[0.0,\"#0d0887\"],[0.1111111111111111,\"#46039f\"],[0.2222222222222222,\"#7201a8\"],[0.3333333333333333,\"#9c179e\"],[0.4444444444444444,\"#bd3786\"],[0.5555555555555556,\"#d8576b\"],[0.6666666666666666,\"#ed7953\"],[0.7777777777777778,\"#fb9f3a\"],[0.8888888888888888,\"#fdca26\"],[1.0,\"#f0f921\"]]}],\"mesh3d\":[{\"type\":\"mesh3d\",\"colorbar\":{\"outlinewidth\":0,\"ticks\":\"\"}}],\"scatter\":[{\"fillpattern\":{\"fillmode\":\"overlay\",\"size\":10,\"solidity\":0.2},\"type\":\"scatter\"}],\"parcoords\":[{\"type\":\"parcoords\",\"line\":{\"colorbar\":{\"outlinewidth\":0,\"ticks\":\"\"}}}],\"scatterpolargl\":[{\"type\":\"scatterpolargl\",\"marker\":{\"colorbar\":{\"outlinewidth\":0,\"ticks\":\"\"}}}],\"bar\":[{\"error_x\":{\"color\":\"#2a3f5f\"},\"error_y\":{\"color\":\"#2a3f5f\"},\"marker\":{\"line\":{\"color\":\"#E5ECF6\",\"width\":0.5},\"pattern\":{\"fillmode\":\"overlay\",\"size\":10,\"solidity\":0.2}},\"type\":\"bar\"}],\"scattergeo\":[{\"type\":\"scattergeo\",\"marker\":{\"colorbar\":{\"outlinewidth\":0,\"ticks\":\"\"}}}],\"scatterpolar\":[{\"type\":\"scatterpolar\",\"marker\":{\"colorbar\":{\"outlinewidth\":0,\"ticks\":\"\"}}}],\"histogram\":[{\"marker\":{\"pattern\":{\"fillmode\":\"overlay\",\"size\":10,\"solidity\":0.2}},\"type\":\"histogram\"}],\"scattergl\":[{\"type\":\"scattergl\",\"marker\":{\"colorbar\":{\"outlinewidth\":0,\"ticks\":\"\"}}}],\"scatter3d\":[{\"type\":\"scatter3d\",\"line\":{\"colorbar\":{\"outlinewidth\":0,\"ticks\":\"\"}},\"marker\":{\"colorbar\":{\"outlinewidth\":0,\"ticks\":\"\"}}}],\"scattermapbox\":[{\"type\":\"scattermapbox\",\"marker\":{\"colorbar\":{\"outlinewidth\":0,\"ticks\":\"\"}}}],\"scatterternary\":[{\"type\":\"scatterternary\",\"marker\":{\"colorbar\":{\"outlinewidth\":0,\"ticks\":\"\"}}}],\"scattercarpet\":[{\"type\":\"scattercarpet\",\"marker\":{\"colorbar\":{\"outlinewidth\":0,\"ticks\":\"\"}}}],\"carpet\":[{\"aaxis\":{\"endlinecolor\":\"#2a3f5f\",\"gridcolor\":\"white\",\"linecolor\":\"white\",\"minorgridcolor\":\"white\",\"startlinecolor\":\"#2a3f5f\"},\"baxis\":{\"endlinecolor\":\"#2a3f5f\",\"gridcolor\":\"white\",\"linecolor\":\"white\",\"minorgridcolor\":\"white\",\"startlinecolor\":\"#2a3f5f\"},\"type\":\"carpet\"}],\"table\":[{\"cells\":{\"fill\":{\"color\":\"#EBF0F8\"},\"line\":{\"color\":\"white\"}},\"header\":{\"fill\":{\"color\":\"#C8D4E3\"},\"line\":{\"color\":\"white\"}},\"type\":\"table\"}],\"barpolar\":[{\"marker\":{\"line\":{\"color\":\"#E5ECF6\",\"width\":0.5},\"pattern\":{\"fillmode\":\"overlay\",\"size\":10,\"solidity\":0.2}},\"type\":\"barpolar\"}],\"pie\":[{\"automargin\":true,\"type\":\"pie\"}]},\"layout\":{\"autotypenumbers\":\"strict\",\"colorway\":[\"#636efa\",\"#EF553B\",\"#00cc96\",\"#ab63fa\",\"#FFA15A\",\"#19d3f3\",\"#FF6692\",\"#B6E880\",\"#FF97FF\",\"#FECB52\"],\"font\":{\"color\":\"#2a3f5f\"},\"hovermode\":\"closest\",\"hoverlabel\":{\"align\":\"left\"},\"paper_bgcolor\":\"white\",\"plot_bgcolor\":\"#E5ECF6\",\"polar\":{\"bgcolor\":\"#E5ECF6\",\"angularaxis\":{\"gridcolor\":\"white\",\"linecolor\":\"white\",\"ticks\":\"\"},\"radialaxis\":{\"gridcolor\":\"white\",\"linecolor\":\"white\",\"ticks\":\"\"}},\"ternary\":{\"bgcolor\":\"#E5ECF6\",\"aaxis\":{\"gridcolor\":\"white\",\"linecolor\":\"white\",\"ticks\":\"\"},\"baxis\":{\"gridcolor\":\"white\",\"linecolor\":\"white\",\"ticks\":\"\"},\"caxis\":{\"gridcolor\":\"white\",\"linecolor\":\"white\",\"ticks\":\"\"}},\"coloraxis\":{\"colorbar\":{\"outlinewidth\":0,\"ticks\":\"\"}},\"colorscale\":{\"sequential\":[[0.0,\"#0d0887\"],[0.1111111111111111,\"#46039f\"],[0.2222222222222222,\"#7201a8\"],[0.3333333333333333,\"#9c179e\"],[0.4444444444444444,\"#bd3786\"],[0.5555555555555556,\"#d8576b\"],[0.6666666666666666,\"#ed7953\"],[0.7777777777777778,\"#fb9f3a\"],[0.8888888888888888,\"#fdca26\"],[1.0,\"#f0f921\"]],\"sequentialminus\":[[0.0,\"#0d0887\"],[0.1111111111111111,\"#46039f\"],[0.2222222222222222,\"#7201a8\"],[0.3333333333333333,\"#9c179e\"],[0.4444444444444444,\"#bd3786\"],[0.5555555555555556,\"#d8576b\"],[0.6666666666666666,\"#ed7953\"],[0.7777777777777778,\"#fb9f3a\"],[0.8888888888888888,\"#fdca26\"],[1.0,\"#f0f921\"]],\"diverging\":[[0,\"#8e0152\"],[0.1,\"#c51b7d\"],[0.2,\"#de77ae\"],[0.3,\"#f1b6da\"],[0.4,\"#fde0ef\"],[0.5,\"#f7f7f7\"],[0.6,\"#e6f5d0\"],[0.7,\"#b8e186\"],[0.8,\"#7fbc41\"],[0.9,\"#4d9221\"],[1,\"#276419\"]]},\"xaxis\":{\"gridcolor\":\"white\",\"linecolor\":\"white\",\"ticks\":\"\",\"title\":{\"standoff\":15},\"zerolinecolor\":\"white\",\"automargin\":true,\"zerolinewidth\":2},\"yaxis\":{\"gridcolor\":\"white\",\"linecolor\":\"white\",\"ticks\":\"\",\"title\":{\"standoff\":15},\"zerolinecolor\":\"white\",\"automargin\":true,\"zerolinewidth\":2},\"scene\":{\"xaxis\":{\"backgroundcolor\":\"#E5ECF6\",\"gridcolor\":\"white\",\"linecolor\":\"white\",\"showbackground\":true,\"ticks\":\"\",\"zerolinecolor\":\"white\",\"gridwidth\":2},\"yaxis\":{\"backgroundcolor\":\"#E5ECF6\",\"gridcolor\":\"white\",\"linecolor\":\"white\",\"showbackground\":true,\"ticks\":\"\",\"zerolinecolor\":\"white\",\"gridwidth\":2},\"zaxis\":{\"backgroundcolor\":\"#E5ECF6\",\"gridcolor\":\"white\",\"linecolor\":\"white\",\"showbackground\":true,\"ticks\":\"\",\"zerolinecolor\":\"white\",\"gridwidth\":2}},\"shapedefaults\":{\"line\":{\"color\":\"#2a3f5f\"}},\"annotationdefaults\":{\"arrowcolor\":\"#2a3f5f\",\"arrowhead\":0,\"arrowwidth\":1},\"geo\":{\"bgcolor\":\"white\",\"landcolor\":\"#E5ECF6\",\"subunitcolor\":\"white\",\"showland\":true,\"showlakes\":true,\"lakecolor\":\"white\"},\"title\":{\"x\":0.05},\"mapbox\":{\"style\":\"light\"}}},\"title\":{\"text\":\"Closest Organizations to Sarepta\"},\"xaxis\":{\"title\":{\"text\":\"t-SNE Component 1\"}},\"yaxis\":{\"title\":{\"text\":\"t-SNE Component 2\"}}},                        {\"responsive\": true}                    ).then(function(){\n",
       "                            \n",
       "var gd = document.getElementById('4d7ba4e5-2524-4f56-b0c6-b845ffd317c3');\n",
       "var x = new MutationObserver(function (mutations, observer) {{\n",
       "        var display = window.getComputedStyle(gd).display;\n",
       "        if (!display || display === 'none') {{\n",
       "            console.log([gd, 'removed!']);\n",
       "            Plotly.purge(gd);\n",
       "            observer.disconnect();\n",
       "        }}\n",
       "}});\n",
       "\n",
       "// Listen for the removal of the full notebook cells\n",
       "var notebookContainer = gd.closest('#notebook-container');\n",
       "if (notebookContainer) {{\n",
       "    x.observe(notebookContainer, {childList: true});\n",
       "}}\n",
       "\n",
       "// Listen for the clearing of the current output cell\n",
       "var outputEl = gd.closest('.output');\n",
       "if (outputEl) {{\n",
       "    x.observe(outputEl, {childList: true});\n",
       "}}\n",
       "\n",
       "                        })                };                });            </script>        </div>"
      ]
     },
     "metadata": {},
     "output_type": "display_data"
    }
   ],
   "source": [
    "plot_closest_organizations('Sarepta')"
   ]
  },
  {
   "cell_type": "code",
   "execution_count": null,
   "id": "7da4098b",
   "metadata": {
    "papermill": {
     "duration": 0.026594,
     "end_time": "2024-06-11T03:52:49.694452",
     "exception": false,
     "start_time": "2024-06-11T03:52:49.667858",
     "status": "completed"
    },
    "tags": []
   },
   "outputs": [],
   "source": []
  }
 ],
 "metadata": {
  "colab": {
   "provenance": []
  },
  "kaggle": {
   "accelerator": "none",
   "dataSources": [
    {
     "datasetId": 5135511,
     "sourceId": 8586221,
     "sourceType": "datasetVersion"
    }
   ],
   "dockerImageVersionId": 30715,
   "isGpuEnabled": false,
   "isInternetEnabled": true,
   "language": "python",
   "sourceType": "notebook"
  },
  "kernelspec": {
   "display_name": "Python 3",
   "language": "python",
   "name": "python3"
  },
  "language_info": {
   "codemirror_mode": {
    "name": "ipython",
    "version": 3
   },
   "file_extension": ".py",
   "mimetype": "text/x-python",
   "name": "python",
   "nbconvert_exporter": "python",
   "pygments_lexer": "ipython3",
   "version": "3.10.13"
  },
  "papermill": {
   "default_parameters": {},
   "duration": 2850.10325,
   "end_time": "2024-06-11T03:52:50.951803",
   "environment_variables": {},
   "exception": null,
   "input_path": "__notebook__.ipynb",
   "output_path": "__notebook__.ipynb",
   "parameters": {},
   "start_time": "2024-06-11T03:05:20.848553",
   "version": "2.5.0"
  }
 },
 "nbformat": 4,
 "nbformat_minor": 5
}
